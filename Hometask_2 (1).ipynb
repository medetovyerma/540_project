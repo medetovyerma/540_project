{
  "nbformat": 4,
  "nbformat_minor": 0,
  "metadata": {
    "colab": {
      "name": "Hometask 2.ipynb",
      "provenance": [],
      "collapsed_sections": []
    },
    "kernelspec": {
      "name": "python3",
      "display_name": "Python 3"
    },
    "accelerator": "GPU"
  },
  "cells": [
    {
      "cell_type": "markdown",
      "metadata": {
        "id": "rHMUqQIpgHq2"
      },
      "source": [
        "Hometask #2 (SVM)\n",
        "\n",
        "student:Yermukhamet Medetov\n",
        "\n",
        "id: 201516001\n",
        "\n"
      ]
    },
    {
      "cell_type": "code",
      "metadata": {
        "id": "9tqVdX_tajWy"
      },
      "source": [
        "# dataset  отсюда https://www.kaggle.com/c/ieee-fraud-detection "
      ],
      "execution_count": null,
      "outputs": []
    },
    {
      "cell_type": "code",
      "metadata": {
        "id": "MXf7ZhEmpJdB"
      },
      "source": [
        "import pandas as pd\n",
        "import numpy as np\n",
        "from sklearn import svm\n",
        "from sklearn.svm import SVC\n",
        "from sklearn.preprocessing import StandardScaler\n",
        "\n",
        "from sklearn import metrics\n",
        "from sklearn.metrics import classification_report, confusion_matrix\n",
        "from sklearn.metrics import accuracy_score,f1_score, precision_score, recall_score,fbeta_score\n",
        "\n",
        "from mlxtend.plotting import plot_decision_regions\n",
        "\n",
        "import matplotlib.pyplot as plt\n",
        "import seaborn as sns\n",
        "%matplotlib inline  \n",
        "from sklearn.model_selection import learning_curve\n",
        "\n",
        "\n",
        "from sklearn.model_selection import train_test_split"
      ],
      "execution_count": null,
      "outputs": []
    },
    {
      "cell_type": "code",
      "metadata": {
        "id": "dB1kBM0xZDUM"
      },
      "source": [
        "df=pd.read_csv('/content/drive/My Drive/541_ML_hometask/creditcard.csv') #My dataset is about predicting credit card Fraud"
      ],
      "execution_count": null,
      "outputs": []
    },
    {
      "cell_type": "code",
      "metadata": {
        "id": "MIxchWATESd9",
        "outputId": "35620d84-708c-4f20-f814-e61e4f505553",
        "colab": {
          "base_uri": "https://localhost:8080/",
          "height": 217
        }
      },
      "source": [
        "df.head()"
      ],
      "execution_count": null,
      "outputs": [
        {
          "output_type": "execute_result",
          "data": {
            "text/html": [
              "<div>\n",
              "<style scoped>\n",
              "    .dataframe tbody tr th:only-of-type {\n",
              "        vertical-align: middle;\n",
              "    }\n",
              "\n",
              "    .dataframe tbody tr th {\n",
              "        vertical-align: top;\n",
              "    }\n",
              "\n",
              "    .dataframe thead th {\n",
              "        text-align: right;\n",
              "    }\n",
              "</style>\n",
              "<table border=\"1\" class=\"dataframe\">\n",
              "  <thead>\n",
              "    <tr style=\"text-align: right;\">\n",
              "      <th></th>\n",
              "      <th>Time</th>\n",
              "      <th>V1</th>\n",
              "      <th>V2</th>\n",
              "      <th>V3</th>\n",
              "      <th>V4</th>\n",
              "      <th>V5</th>\n",
              "      <th>V6</th>\n",
              "      <th>V7</th>\n",
              "      <th>V8</th>\n",
              "      <th>V9</th>\n",
              "      <th>V10</th>\n",
              "      <th>V11</th>\n",
              "      <th>V12</th>\n",
              "      <th>V13</th>\n",
              "      <th>V14</th>\n",
              "      <th>V15</th>\n",
              "      <th>V16</th>\n",
              "      <th>V17</th>\n",
              "      <th>V18</th>\n",
              "      <th>V19</th>\n",
              "      <th>V20</th>\n",
              "      <th>V21</th>\n",
              "      <th>V22</th>\n",
              "      <th>V23</th>\n",
              "      <th>V24</th>\n",
              "      <th>V25</th>\n",
              "      <th>V26</th>\n",
              "      <th>V27</th>\n",
              "      <th>V28</th>\n",
              "      <th>Amount</th>\n",
              "      <th>Class</th>\n",
              "    </tr>\n",
              "  </thead>\n",
              "  <tbody>\n",
              "    <tr>\n",
              "      <th>0</th>\n",
              "      <td>0.0</td>\n",
              "      <td>-1.359807</td>\n",
              "      <td>-0.072781</td>\n",
              "      <td>2.536347</td>\n",
              "      <td>1.378155</td>\n",
              "      <td>-0.338321</td>\n",
              "      <td>0.462388</td>\n",
              "      <td>0.239599</td>\n",
              "      <td>0.098698</td>\n",
              "      <td>0.363787</td>\n",
              "      <td>0.090794</td>\n",
              "      <td>-0.551600</td>\n",
              "      <td>-0.617801</td>\n",
              "      <td>-0.991390</td>\n",
              "      <td>-0.311169</td>\n",
              "      <td>1.468177</td>\n",
              "      <td>-0.470401</td>\n",
              "      <td>0.207971</td>\n",
              "      <td>0.025791</td>\n",
              "      <td>0.403993</td>\n",
              "      <td>0.251412</td>\n",
              "      <td>-0.018307</td>\n",
              "      <td>0.277838</td>\n",
              "      <td>-0.110474</td>\n",
              "      <td>0.066928</td>\n",
              "      <td>0.128539</td>\n",
              "      <td>-0.189115</td>\n",
              "      <td>0.133558</td>\n",
              "      <td>-0.021053</td>\n",
              "      <td>149.62</td>\n",
              "      <td>0</td>\n",
              "    </tr>\n",
              "    <tr>\n",
              "      <th>1</th>\n",
              "      <td>0.0</td>\n",
              "      <td>1.191857</td>\n",
              "      <td>0.266151</td>\n",
              "      <td>0.166480</td>\n",
              "      <td>0.448154</td>\n",
              "      <td>0.060018</td>\n",
              "      <td>-0.082361</td>\n",
              "      <td>-0.078803</td>\n",
              "      <td>0.085102</td>\n",
              "      <td>-0.255425</td>\n",
              "      <td>-0.166974</td>\n",
              "      <td>1.612727</td>\n",
              "      <td>1.065235</td>\n",
              "      <td>0.489095</td>\n",
              "      <td>-0.143772</td>\n",
              "      <td>0.635558</td>\n",
              "      <td>0.463917</td>\n",
              "      <td>-0.114805</td>\n",
              "      <td>-0.183361</td>\n",
              "      <td>-0.145783</td>\n",
              "      <td>-0.069083</td>\n",
              "      <td>-0.225775</td>\n",
              "      <td>-0.638672</td>\n",
              "      <td>0.101288</td>\n",
              "      <td>-0.339846</td>\n",
              "      <td>0.167170</td>\n",
              "      <td>0.125895</td>\n",
              "      <td>-0.008983</td>\n",
              "      <td>0.014724</td>\n",
              "      <td>2.69</td>\n",
              "      <td>0</td>\n",
              "    </tr>\n",
              "    <tr>\n",
              "      <th>2</th>\n",
              "      <td>1.0</td>\n",
              "      <td>-1.358354</td>\n",
              "      <td>-1.340163</td>\n",
              "      <td>1.773209</td>\n",
              "      <td>0.379780</td>\n",
              "      <td>-0.503198</td>\n",
              "      <td>1.800499</td>\n",
              "      <td>0.791461</td>\n",
              "      <td>0.247676</td>\n",
              "      <td>-1.514654</td>\n",
              "      <td>0.207643</td>\n",
              "      <td>0.624501</td>\n",
              "      <td>0.066084</td>\n",
              "      <td>0.717293</td>\n",
              "      <td>-0.165946</td>\n",
              "      <td>2.345865</td>\n",
              "      <td>-2.890083</td>\n",
              "      <td>1.109969</td>\n",
              "      <td>-0.121359</td>\n",
              "      <td>-2.261857</td>\n",
              "      <td>0.524980</td>\n",
              "      <td>0.247998</td>\n",
              "      <td>0.771679</td>\n",
              "      <td>0.909412</td>\n",
              "      <td>-0.689281</td>\n",
              "      <td>-0.327642</td>\n",
              "      <td>-0.139097</td>\n",
              "      <td>-0.055353</td>\n",
              "      <td>-0.059752</td>\n",
              "      <td>378.66</td>\n",
              "      <td>0</td>\n",
              "    </tr>\n",
              "    <tr>\n",
              "      <th>3</th>\n",
              "      <td>1.0</td>\n",
              "      <td>-0.966272</td>\n",
              "      <td>-0.185226</td>\n",
              "      <td>1.792993</td>\n",
              "      <td>-0.863291</td>\n",
              "      <td>-0.010309</td>\n",
              "      <td>1.247203</td>\n",
              "      <td>0.237609</td>\n",
              "      <td>0.377436</td>\n",
              "      <td>-1.387024</td>\n",
              "      <td>-0.054952</td>\n",
              "      <td>-0.226487</td>\n",
              "      <td>0.178228</td>\n",
              "      <td>0.507757</td>\n",
              "      <td>-0.287924</td>\n",
              "      <td>-0.631418</td>\n",
              "      <td>-1.059647</td>\n",
              "      <td>-0.684093</td>\n",
              "      <td>1.965775</td>\n",
              "      <td>-1.232622</td>\n",
              "      <td>-0.208038</td>\n",
              "      <td>-0.108300</td>\n",
              "      <td>0.005274</td>\n",
              "      <td>-0.190321</td>\n",
              "      <td>-1.175575</td>\n",
              "      <td>0.647376</td>\n",
              "      <td>-0.221929</td>\n",
              "      <td>0.062723</td>\n",
              "      <td>0.061458</td>\n",
              "      <td>123.50</td>\n",
              "      <td>0</td>\n",
              "    </tr>\n",
              "    <tr>\n",
              "      <th>4</th>\n",
              "      <td>2.0</td>\n",
              "      <td>-1.158233</td>\n",
              "      <td>0.877737</td>\n",
              "      <td>1.548718</td>\n",
              "      <td>0.403034</td>\n",
              "      <td>-0.407193</td>\n",
              "      <td>0.095921</td>\n",
              "      <td>0.592941</td>\n",
              "      <td>-0.270533</td>\n",
              "      <td>0.817739</td>\n",
              "      <td>0.753074</td>\n",
              "      <td>-0.822843</td>\n",
              "      <td>0.538196</td>\n",
              "      <td>1.345852</td>\n",
              "      <td>-1.119670</td>\n",
              "      <td>0.175121</td>\n",
              "      <td>-0.451449</td>\n",
              "      <td>-0.237033</td>\n",
              "      <td>-0.038195</td>\n",
              "      <td>0.803487</td>\n",
              "      <td>0.408542</td>\n",
              "      <td>-0.009431</td>\n",
              "      <td>0.798278</td>\n",
              "      <td>-0.137458</td>\n",
              "      <td>0.141267</td>\n",
              "      <td>-0.206010</td>\n",
              "      <td>0.502292</td>\n",
              "      <td>0.219422</td>\n",
              "      <td>0.215153</td>\n",
              "      <td>69.99</td>\n",
              "      <td>0</td>\n",
              "    </tr>\n",
              "  </tbody>\n",
              "</table>\n",
              "</div>"
            ],
            "text/plain": [
              "   Time        V1        V2        V3  ...       V27       V28  Amount  Class\n",
              "0   0.0 -1.359807 -0.072781  2.536347  ...  0.133558 -0.021053  149.62      0\n",
              "1   0.0  1.191857  0.266151  0.166480  ... -0.008983  0.014724    2.69      0\n",
              "2   1.0 -1.358354 -1.340163  1.773209  ... -0.055353 -0.059752  378.66      0\n",
              "3   1.0 -0.966272 -0.185226  1.792993  ...  0.062723  0.061458  123.50      0\n",
              "4   2.0 -1.158233  0.877737  1.548718  ...  0.219422  0.215153   69.99      0\n",
              "\n",
              "[5 rows x 31 columns]"
            ]
          },
          "metadata": {
            "tags": []
          },
          "execution_count": 3
        }
      ]
    },
    {
      "cell_type": "code",
      "metadata": {
        "id": "PtnayUzFD172",
        "outputId": "92d617fe-ddf5-4af6-efbd-5b06f678b591",
        "colab": {
          "base_uri": "https://localhost:8080/",
          "height": 34
        }
      },
      "source": [
        "df.shape"
      ],
      "execution_count": null,
      "outputs": [
        {
          "output_type": "execute_result",
          "data": {
            "text/plain": [
              "(284807, 31)"
            ]
          },
          "metadata": {
            "tags": []
          },
          "execution_count": 4
        }
      ]
    },
    {
      "cell_type": "code",
      "metadata": {
        "id": "D5OKFtnTEAZT",
        "outputId": "88f61e98-a91b-4dc6-df5a-5c3c1413153e",
        "colab": {
          "base_uri": "https://localhost:8080/",
          "height": 70
        }
      },
      "source": [
        "df.Class.value_counts()"
      ],
      "execution_count": null,
      "outputs": [
        {
          "output_type": "execute_result",
          "data": {
            "text/plain": [
              "0    284315\n",
              "1       492\n",
              "Name: Class, dtype: int64"
            ]
          },
          "metadata": {
            "tags": []
          },
          "execution_count": 5
        }
      ]
    },
    {
      "cell_type": "code",
      "metadata": {
        "id": "YViKWP_67X7g",
        "outputId": "1770beb0-a5d0-45ba-b7bd-2e4150c3c8fe",
        "colab": {
          "base_uri": "https://localhost:8080/",
          "height": 284
        }
      },
      "source": [
        "sns.set(style= \"darkgrid\" )\n",
        "ax = sns.countplot(x=\"Class\", data=df)"
      ],
      "execution_count": null,
      "outputs": [
        {
          "output_type": "display_data",
          "data": {
            "image/png": "[encoded data removed]",
            "text/plain": [
              "<Figure size 432x288 with 1 Axes>"
            ]
          },
          "metadata": {
            "tags": []
          }
        }
      ]
    },
    {
      "cell_type": "code",
      "metadata": {
        "id": "eDqd4AJEAnUU"
      },
      "source": [
        "X=df.iloc[:,0:30]"
      ],
      "execution_count": null,
      "outputs": []
    },
    {
      "cell_type": "code",
      "metadata": {
        "id": "1ZZ_fOhPHYWq"
      },
      "source": [
        "y=df.iloc[:,30:]"
      ],
      "execution_count": null,
      "outputs": []
    },
    {
      "cell_type": "markdown",
      "metadata": {
        "id": "vmt8T5MpMyC4"
      },
      "source": [
        "Splitting data into Train, Test, Validation:"
      ]
    },
    {
      "cell_type": "code",
      "metadata": {
        "id": "OK26spebAnSD"
      },
      "source": [
        "X_train, X_test, y_train, y_test = train_test_split(X, y, test_size=0.2)"
      ],
      "execution_count": null,
      "outputs": []
    },
    {
      "cell_type": "code",
      "metadata": {
        "id": "EQJHoFD1MwT4"
      },
      "source": [
        "X_train, X_val, y_train, y_val = train_test_split(X_train, y_train, test_size=0.2) # 60% is training\n",
        "                                                                                   # 20% is validaton\n",
        "                                                                                   # 20% is test"
      ],
      "execution_count": null,
      "outputs": []
    },
    {
      "cell_type": "code",
      "metadata": {
        "id": "gu95eZ6mHsn6",
        "outputId": "d953a1f0-a2cf-4c8b-8a2d-91581aa9336f",
        "colab": {
          "base_uri": "https://localhost:8080/",
          "height": 70
        }
      },
      "source": [
        "print(X_train.shape)\n",
        "print(X_test.shape)\n",
        "print(X_val.shape)"
      ],
      "execution_count": null,
      "outputs": [
        {
          "output_type": "stream",
          "text": [
            "(182276, 30)\n",
            "(56962, 30)\n",
            "(45569, 30)\n"
          ],
          "name": "stdout"
        }
      ]
    },
    {
      "cell_type": "code",
      "metadata": {
        "id": "kRKNukWtHslL"
      },
      "source": [
        "X_train = StandardScaler().fit_transform(X_train) #Standartizing our features\n",
        "X_test = StandardScaler().fit_transform(X_test) #Standartizing our features\n",
        "X_val=StandardScaler().fit_transform(X_val)"
      ],
      "execution_count": null,
      "outputs": []
    },
    {
      "cell_type": "markdown",
      "metadata": {
        "id": "EpIXhP26f_6N"
      },
      "source": [
        "\n",
        "**Question 3,4,5,6**  \n",
        "All modifications of SVM with Common C (in our Case we chose C by default 1)"
      ]
    },
    {
      "cell_type": "code",
      "metadata": {
        "id": "yj12ialBf-YR",
        "outputId": "b1404ebf-00b3-49fe-d3af-f8d5af93a9e9",
        "colab": {
          "base_uri": "https://localhost:8080/",
          "height": 196
        }
      },
      "source": [
        "models=['linear','poly','rbf','sigmoid']\n",
        "model_scores=[]\n",
        "for kernel in models:\n",
        "  model=SVC(kernel=kernel)\n",
        "  model.fit(X_train,y_train)\n",
        "  model_all=model.score(X_val,y_val)\n",
        "  model_scores.append(model_all)\n",
        "print(dict(zip(models,model_scores)))\n"
      ],
      "execution_count": null,
      "outputs": [
        {
          "output_type": "stream",
          "text": [
            "/usr/local/lib/python3.6/dist-packages/sklearn/utils/validation.py:760: DataConversionWarning: A column-vector y was passed when a 1d array was expected. Please change the shape of y to (n_samples, ), for example using ravel().\n",
            "  y = column_or_1d(y, warn=True)\n",
            "/usr/local/lib/python3.6/dist-packages/sklearn/utils/validation.py:760: DataConversionWarning: A column-vector y was passed when a 1d array was expected. Please change the shape of y to (n_samples, ), for example using ravel().\n",
            "  y = column_or_1d(y, warn=True)\n",
            "/usr/local/lib/python3.6/dist-packages/sklearn/utils/validation.py:760: DataConversionWarning: A column-vector y was passed when a 1d array was expected. Please change the shape of y to (n_samples, ), for example using ravel().\n",
            "  y = column_or_1d(y, warn=True)\n",
            "/usr/local/lib/python3.6/dist-packages/sklearn/utils/validation.py:760: DataConversionWarning: A column-vector y was passed when a 1d array was expected. Please change the shape of y to (n_samples, ), for example using ravel().\n",
            "  y = column_or_1d(y, warn=True)\n"
          ],
          "name": "stderr"
        },
        {
          "output_type": "stream",
          "text": [
            "{'linear': 0.9993197129627598, 'poly': 0.9996269393666747, 'rbf': 0.999297768219623, 'sigmoid': 0.9984858127235621}\n"
          ],
          "name": "stdout"
        }
      ]
    },
    {
      "cell_type": "code",
      "metadata": {
        "id": "cwtmr4nAPvvz"
      },
      "source": [
        "#C_values=[1/182276,2/182276,1/(2*182276), 4/182276,1/(4*182276)] # HERE I use formula for choosing value of C from Lecture 6 slide 8\n",
        "C_values=[0.25,0.5,1,2,4]"
      ],
      "execution_count": null,
      "outputs": []
    },
    {
      "cell_type": "markdown",
      "metadata": {
        "id": "8NIh36qZb-r-"
      },
      "source": [
        "**At next steps I will do : **\n",
        "\n",
        "\n",
        "Train Model on Training set with given kernel **->** Then I will Train Model On Validation set and Choose Best C  **->**  Then With right C I will train Testing Set"
      ]
    },
    {
      "cell_type": "code",
      "metadata": {
        "id": "EW-M4NKtHskF",
        "outputId": "33fc0dac-b56e-4abb-c140-290441d071a6",
        "colab": {
          "base_uri": "https://localhost:8080/",
          "height": 250
        }
      },
      "source": [
        "#Model # 1\n",
        "\n",
        "scores_linear=[]\n",
        "for C in C_values:\n",
        "  kernel_linear = SVC(C=C,kernel='linear')\n",
        "  kernel_linear.fit(X_train,y_train)\n",
        "  score_linear=kernel_linear.score(X_train,y_train)\n",
        "  scores_linear.append(score_linear)\n",
        "print('Values of C',C_values)\n",
        "print('Score',scores_linear)\n"
      ],
      "execution_count": null,
      "outputs": [
        {
          "output_type": "stream",
          "text": [
            "/usr/local/lib/python3.6/dist-packages/sklearn/utils/validation.py:760: DataConversionWarning: A column-vector y was passed when a 1d array was expected. Please change the shape of y to (n_samples, ), for example using ravel().\n",
            "  y = column_or_1d(y, warn=True)\n",
            "/usr/local/lib/python3.6/dist-packages/sklearn/utils/validation.py:760: DataConversionWarning: A column-vector y was passed when a 1d array was expected. Please change the shape of y to (n_samples, ), for example using ravel().\n",
            "  y = column_or_1d(y, warn=True)\n",
            "/usr/local/lib/python3.6/dist-packages/sklearn/utils/validation.py:760: DataConversionWarning: A column-vector y was passed when a 1d array was expected. Please change the shape of y to (n_samples, ), for example using ravel().\n",
            "  y = column_or_1d(y, warn=True)\n",
            "/usr/local/lib/python3.6/dist-packages/sklearn/utils/validation.py:760: DataConversionWarning: A column-vector y was passed when a 1d array was expected. Please change the shape of y to (n_samples, ), for example using ravel().\n",
            "  y = column_or_1d(y, warn=True)\n",
            "/usr/local/lib/python3.6/dist-packages/sklearn/utils/validation.py:760: DataConversionWarning: A column-vector y was passed when a 1d array was expected. Please change the shape of y to (n_samples, ), for example using ravel().\n",
            "  y = column_or_1d(y, warn=True)\n"
          ],
          "name": "stderr"
        },
        {
          "output_type": "stream",
          "text": [
            "Values of C [0.25, 0.5, 1, 2, 4]\n",
            "Score [0.9994294366784436, 0.9994294366784436, 0.9994294366784436, 0.9994294366784436, 0.9994294366784436]\n"
          ],
          "name": "stdout"
        }
      ]
    },
    {
      "cell_type": "code",
      "metadata": {
        "id": "bicqs_Bba5v3",
        "outputId": "cad8b1bd-63c2-47fe-bb8d-5481c7357be1",
        "colab": {
          "base_uri": "https://localhost:8080/",
          "height": 250
        }
      },
      "source": [
        "scores=[]\n",
        "for C in C_values:\n",
        "  best_linear=SVC(C=C, kernel='linear').fit(X_val,y_val)\n",
        "  scores.append(best_linear.score(X_val,y_val))\n",
        "\n",
        "print('C_values:',C_values)\n",
        "print('Scores on Validation set: ',scores)"
      ],
      "execution_count": null,
      "outputs": [
        {
          "output_type": "stream",
          "text": [
            "/usr/local/lib/python3.6/dist-packages/sklearn/utils/validation.py:760: DataConversionWarning: A column-vector y was passed when a 1d array was expected. Please change the shape of y to (n_samples, ), for example using ravel().\n",
            "  y = column_or_1d(y, warn=True)\n",
            "/usr/local/lib/python3.6/dist-packages/sklearn/utils/validation.py:760: DataConversionWarning: A column-vector y was passed when a 1d array was expected. Please change the shape of y to (n_samples, ), for example using ravel().\n",
            "  y = column_or_1d(y, warn=True)\n",
            "/usr/local/lib/python3.6/dist-packages/sklearn/utils/validation.py:760: DataConversionWarning: A column-vector y was passed when a 1d array was expected. Please change the shape of y to (n_samples, ), for example using ravel().\n",
            "  y = column_or_1d(y, warn=True)\n",
            "/usr/local/lib/python3.6/dist-packages/sklearn/utils/validation.py:760: DataConversionWarning: A column-vector y was passed when a 1d array was expected. Please change the shape of y to (n_samples, ), for example using ravel().\n",
            "  y = column_or_1d(y, warn=True)\n",
            "/usr/local/lib/python3.6/dist-packages/sklearn/utils/validation.py:760: DataConversionWarning: A column-vector y was passed when a 1d array was expected. Please change the shape of y to (n_samples, ), for example using ravel().\n",
            "  y = column_or_1d(y, warn=True)\n"
          ],
          "name": "stderr"
        },
        {
          "output_type": "stream",
          "text": [
            "C_values: [0.25, 0.5, 1, 2, 4]\n",
            "Scores on Validation set:  [0.9994952709078541, 0.9994952709078541, 0.9994952709078541, 0.9994952709078541, 0.9994952709078541]\n"
          ],
          "name": "stdout"
        }
      ]
    },
    {
      "cell_type": "code",
      "metadata": {
        "id": "JANuqKsuBsCg"
      },
      "source": [
        "# we can take any C and Check in testing data because Score are equal "
      ],
      "execution_count": null,
      "outputs": []
    },
    {
      "cell_type": "code",
      "metadata": {
        "id": "vIjumy4QsSwz",
        "outputId": "13c25009-7d34-4d35-ab41-f3e8960f1a3e",
        "colab": {
          "base_uri": "https://localhost:8080/",
          "height": 90
        }
      },
      "source": [
        "best_linear_test=SVC(C=4,kernel='linear').fit(X_test,y_test)\n",
        "best_linear_test.score(X_test,y_test)"
      ],
      "execution_count": null,
      "outputs": [
        {
          "output_type": "stream",
          "text": [
            "/usr/local/lib/python3.6/dist-packages/sklearn/utils/validation.py:760: DataConversionWarning: A column-vector y was passed when a 1d array was expected. Please change the shape of y to (n_samples, ), for example using ravel().\n",
            "  y = column_or_1d(y, warn=True)\n"
          ],
          "name": "stderr"
        },
        {
          "output_type": "execute_result",
          "data": {
            "text/plain": [
              "0.9992451107756047"
            ]
          },
          "metadata": {
            "tags": []
          },
          "execution_count": 22
        }
      ]
    },
    {
      "cell_type": "markdown",
      "metadata": {
        "id": "GxXkZwuOfmLh"
      },
      "source": [
        "The following steps will be done similiarly as previous for other 3 kernels:\n",
        "\n",
        " **-Poly(2)**\n",
        "\n",
        " **-RBF(3)**\n",
        "\n",
        " **-Sigmoid(tanh) (4)**"
      ]
    },
    {
      "cell_type": "code",
      "metadata": {
        "id": "oW3CyIA5jc21",
        "outputId": "8232f772-a9ab-4441-e250-703a2eddb32a",
        "colab": {
          "base_uri": "https://localhost:8080/",
          "height": 250
        }
      },
      "source": [
        "#Model # 2\n",
        "\n",
        "best_value_poly=[]\n",
        "for C in C_values:\n",
        "  kernel_poly = SVC(C=C,kernel='poly').fit(X_train, y_train)\n",
        "  score_poly=kernel_poly.score(X_train,y_train)\n",
        "  best_value_poly.append(score_poly)\n",
        "print('Values of C',C_values)\n",
        "print('Scores',best_value_poly)"
      ],
      "execution_count": null,
      "outputs": [
        {
          "output_type": "stream",
          "text": [
            "/usr/local/lib/python3.6/dist-packages/sklearn/utils/validation.py:760: DataConversionWarning: A column-vector y was passed when a 1d array was expected. Please change the shape of y to (n_samples, ), for example using ravel().\n",
            "  y = column_or_1d(y, warn=True)\n",
            "/usr/local/lib/python3.6/dist-packages/sklearn/utils/validation.py:760: DataConversionWarning: A column-vector y was passed when a 1d array was expected. Please change the shape of y to (n_samples, ), for example using ravel().\n",
            "  y = column_or_1d(y, warn=True)\n",
            "/usr/local/lib/python3.6/dist-packages/sklearn/utils/validation.py:760: DataConversionWarning: A column-vector y was passed when a 1d array was expected. Please change the shape of y to (n_samples, ), for example using ravel().\n",
            "  y = column_or_1d(y, warn=True)\n",
            "/usr/local/lib/python3.6/dist-packages/sklearn/utils/validation.py:760: DataConversionWarning: A column-vector y was passed when a 1d array was expected. Please change the shape of y to (n_samples, ), for example using ravel().\n",
            "  y = column_or_1d(y, warn=True)\n",
            "/usr/local/lib/python3.6/dist-packages/sklearn/utils/validation.py:760: DataConversionWarning: A column-vector y was passed when a 1d array was expected. Please change the shape of y to (n_samples, ), for example using ravel().\n",
            "  y = column_or_1d(y, warn=True)\n"
          ],
          "name": "stderr"
        },
        {
          "output_type": "stream",
          "text": [
            "Values of C [0.25, 0.5, 1, 2, 4]\n",
            "Scores [0.9997311768965744, 0.9997695801970637, 0.9997915249402006, 0.9998079834975532, 0.9998189558691215]\n"
          ],
          "name": "stdout"
        }
      ]
    },
    {
      "cell_type": "code",
      "metadata": {
        "id": "CRyLnW23kJkT",
        "outputId": "cd5c83ae-d0ae-4df3-d751-9dd5ee9afd73",
        "colab": {
          "base_uri": "https://localhost:8080/",
          "height": 232
        }
      },
      "source": [
        "score_poly_val=[]\n",
        "for C in C_values:\n",
        "  best_poly=SVC(C=C,kernel='poly').fit(X_val,y_val)\n",
        "  score_poly_val.append(best_poly.score(X_val,y_val))\n",
        "print(score_poly_val)"
      ],
      "execution_count": null,
      "outputs": [
        {
          "output_type": "stream",
          "text": [
            "/usr/local/lib/python3.6/dist-packages/sklearn/utils/validation.py:760: DataConversionWarning: A column-vector y was passed when a 1d array was expected. Please change the shape of y to (n_samples, ), for example using ravel().\n",
            "  y = column_or_1d(y, warn=True)\n",
            "/usr/local/lib/python3.6/dist-packages/sklearn/utils/validation.py:760: DataConversionWarning: A column-vector y was passed when a 1d array was expected. Please change the shape of y to (n_samples, ), for example using ravel().\n",
            "  y = column_or_1d(y, warn=True)\n",
            "/usr/local/lib/python3.6/dist-packages/sklearn/utils/validation.py:760: DataConversionWarning: A column-vector y was passed when a 1d array was expected. Please change the shape of y to (n_samples, ), for example using ravel().\n",
            "  y = column_or_1d(y, warn=True)\n",
            "/usr/local/lib/python3.6/dist-packages/sklearn/utils/validation.py:760: DataConversionWarning: A column-vector y was passed when a 1d array was expected. Please change the shape of y to (n_samples, ), for example using ravel().\n",
            "  y = column_or_1d(y, warn=True)\n",
            "/usr/local/lib/python3.6/dist-packages/sklearn/utils/validation.py:760: DataConversionWarning: A column-vector y was passed when a 1d array was expected. Please change the shape of y to (n_samples, ), for example using ravel().\n",
            "  y = column_or_1d(y, warn=True)\n"
          ],
          "name": "stderr"
        },
        {
          "output_type": "stream",
          "text": [
            "[0.9998244420549057, 0.9998463867980425, 0.9998683315411793, 0.9999122210274529, 0.9999122210274529]\n"
          ],
          "name": "stdout"
        }
      ]
    },
    {
      "cell_type": "code",
      "metadata": {
        "id": "i6XoUtGb2IJ2",
        "outputId": "c69039ed-e00d-416f-f9a9-565efe549c4d",
        "colab": {
          "base_uri": "https://localhost:8080/",
          "height": 90
        }
      },
      "source": [
        "best_poly_test=SVC(C=4).fit(X_test,y_test)\n",
        "best_poly_test.score(X_test,y_test)"
      ],
      "execution_count": null,
      "outputs": [
        {
          "output_type": "stream",
          "text": [
            "/usr/local/lib/python3.6/dist-packages/sklearn/utils/validation.py:760: DataConversionWarning: A column-vector y was passed when a 1d array was expected. Please change the shape of y to (n_samples, ), for example using ravel().\n",
            "  y = column_or_1d(y, warn=True)\n"
          ],
          "name": "stderr"
        },
        {
          "output_type": "execute_result",
          "data": {
            "text/plain": [
              "0.9997366665496296"
            ]
          },
          "metadata": {
            "tags": []
          },
          "execution_count": 16
        }
      ]
    },
    {
      "cell_type": "code",
      "metadata": {
        "id": "uyvDW4nbZzMB",
        "outputId": "76040af7-d489-4ffa-b98a-10784e8516b6",
        "colab": {
          "base_uri": "https://localhost:8080/",
          "height": 250
        }
      },
      "source": [
        "#Model # 3\n",
        "\n",
        "best_value_rbf=[]\n",
        "for C in C_values:\n",
        "  kernel_rbf = SVC(C=C,kernel='rbf')\n",
        "  kernel_rbf.fit(X_train, y_train)\n",
        "  score_rbf= kernel_rbf.score(X_train,y_train)\n",
        "  best_value_rbf.append(score_rbf)\n",
        "print('C values ', C_values)\n",
        "print('Score',best_value_rbf)"
      ],
      "execution_count": null,
      "outputs": [
        {
          "output_type": "stream",
          "text": [
            "/usr/local/lib/python3.6/dist-packages/sklearn/utils/validation.py:760: DataConversionWarning: A column-vector y was passed when a 1d array was expected. Please change the shape of y to (n_samples, ), for example using ravel().\n",
            "  y = column_or_1d(y, warn=True)\n",
            "/usr/local/lib/python3.6/dist-packages/sklearn/utils/validation.py:760: DataConversionWarning: A column-vector y was passed when a 1d array was expected. Please change the shape of y to (n_samples, ), for example using ravel().\n",
            "  y = column_or_1d(y, warn=True)\n",
            "/usr/local/lib/python3.6/dist-packages/sklearn/utils/validation.py:760: DataConversionWarning: A column-vector y was passed when a 1d array was expected. Please change the shape of y to (n_samples, ), for example using ravel().\n",
            "  y = column_or_1d(y, warn=True)\n",
            "/usr/local/lib/python3.6/dist-packages/sklearn/utils/validation.py:760: DataConversionWarning: A column-vector y was passed when a 1d array was expected. Please change the shape of y to (n_samples, ), for example using ravel().\n",
            "  y = column_or_1d(y, warn=True)\n",
            "/usr/local/lib/python3.6/dist-packages/sklearn/utils/validation.py:760: DataConversionWarning: A column-vector y was passed when a 1d array was expected. Please change the shape of y to (n_samples, ), for example using ravel().\n",
            "  y = column_or_1d(y, warn=True)\n"
          ],
          "name": "stderr"
        },
        {
          "output_type": "stream",
          "text": [
            "C values  [0.25, 0.5, 1, 2, 4]\n",
            "Score [0.9991606135750181, 0.9994623537931488, 0.9996653426671641, 0.9997366630823586, 0.9997970111259847]\n"
          ],
          "name": "stdout"
        }
      ]
    },
    {
      "cell_type": "code",
      "metadata": {
        "id": "k6qI0pklmDUk",
        "outputId": "bfb54614-d378-4db1-bdc0-ed6409764b24",
        "colab": {
          "base_uri": "https://localhost:8080/",
          "height": 250
        }
      },
      "source": [
        "score_rbf_val=[]\n",
        "for C in C_values:\n",
        "  best_rbf=SVC(C=C,kernel='rbf').fit(X_val,y_val)\n",
        "  score_rbf_val.append(best_rbf.score(X_val,y_val))\n",
        "print(C_values)\n",
        "print(score_rbf_val)"
      ],
      "execution_count": null,
      "outputs": [
        {
          "output_type": "stream",
          "text": [
            "/usr/local/lib/python3.6/dist-packages/sklearn/utils/validation.py:760: DataConversionWarning: A column-vector y was passed when a 1d array was expected. Please change the shape of y to (n_samples, ), for example using ravel().\n",
            "  y = column_or_1d(y, warn=True)\n",
            "/usr/local/lib/python3.6/dist-packages/sklearn/utils/validation.py:760: DataConversionWarning: A column-vector y was passed when a 1d array was expected. Please change the shape of y to (n_samples, ), for example using ravel().\n",
            "  y = column_or_1d(y, warn=True)\n",
            "/usr/local/lib/python3.6/dist-packages/sklearn/utils/validation.py:760: DataConversionWarning: A column-vector y was passed when a 1d array was expected. Please change the shape of y to (n_samples, ), for example using ravel().\n",
            "  y = column_or_1d(y, warn=True)\n",
            "/usr/local/lib/python3.6/dist-packages/sklearn/utils/validation.py:760: DataConversionWarning: A column-vector y was passed when a 1d array was expected. Please change the shape of y to (n_samples, ), for example using ravel().\n",
            "  y = column_or_1d(y, warn=True)\n",
            "/usr/local/lib/python3.6/dist-packages/sklearn/utils/validation.py:760: DataConversionWarning: A column-vector y was passed when a 1d array was expected. Please change the shape of y to (n_samples, ), for example using ravel().\n",
            "  y = column_or_1d(y, warn=True)\n"
          ],
          "name": "stderr"
        },
        {
          "output_type": "stream",
          "text": [
            "[0.25, 0.5, 1, 2, 4]\n",
            "[0.9984419232372885, 0.9989685970725712, 0.9997805525686322, 0.9998463867980425, 0.9999122210274529]\n"
          ],
          "name": "stdout"
        }
      ]
    },
    {
      "cell_type": "markdown",
      "metadata": {
        "id": "chNxQ1Zl_f-i"
      },
      "source": [
        "At C=4 we have score 0.9999122210274529 which is more than others"
      ]
    },
    {
      "cell_type": "code",
      "metadata": {
        "id": "IqvTdvEb6FUF",
        "outputId": "73d06f03-b51e-42fb-97d3-b7ceec42680e",
        "colab": {
          "base_uri": "https://localhost:8080/",
          "height": 90
        }
      },
      "source": [
        "best_rbf_test=SVC(C=4,kernel='rbf').fit(X_test,y_test)\n",
        "print(best_rbf.score(X_test,y_test))"
      ],
      "execution_count": null,
      "outputs": [
        {
          "output_type": "stream",
          "text": [
            "/usr/local/lib/python3.6/dist-packages/sklearn/utils/validation.py:760: DataConversionWarning: A column-vector y was passed when a 1d array was expected. Please change the shape of y to (n_samples, ), for example using ravel().\n",
            "  y = column_or_1d(y, warn=True)\n"
          ],
          "name": "stderr"
        },
        {
          "output_type": "stream",
          "text": [
            "0.9989817773252344\n"
          ],
          "name": "stdout"
        }
      ]
    },
    {
      "cell_type": "code",
      "metadata": {
        "id": "gd2XZsXhZ_6r",
        "outputId": "fc8221b7-01f6-49a3-a90f-488acfc8eb89",
        "colab": {
          "base_uri": "https://localhost:8080/",
          "height": 250
        }
      },
      "source": [
        "#Model # 4\n",
        "best_value_sigmoid=[]\n",
        "for C in C_values:\n",
        "  kernel_sigmoid = SVC(C=C,kernel='sigmoid')\n",
        "  kernel_sigmoid.fit(X_train, y_train)\n",
        "  score_sigmoid=kernel_sigmoid.score(X_train,y_train)\n",
        "  best_value_sigmoid.append(score_sigmoid)\n",
        "print('C values',C_values)\n",
        "print('Scores',best_value_sigmoid)"
      ],
      "execution_count": null,
      "outputs": [
        {
          "output_type": "stream",
          "text": [
            "/usr/local/lib/python3.6/dist-packages/sklearn/utils/validation.py:760: DataConversionWarning: A column-vector y was passed when a 1d array was expected. Please change the shape of y to (n_samples, ), for example using ravel().\n",
            "  y = column_or_1d(y, warn=True)\n",
            "/usr/local/lib/python3.6/dist-packages/sklearn/utils/validation.py:760: DataConversionWarning: A column-vector y was passed when a 1d array was expected. Please change the shape of y to (n_samples, ), for example using ravel().\n",
            "  y = column_or_1d(y, warn=True)\n",
            "/usr/local/lib/python3.6/dist-packages/sklearn/utils/validation.py:760: DataConversionWarning: A column-vector y was passed when a 1d array was expected. Please change the shape of y to (n_samples, ), for example using ravel().\n",
            "  y = column_or_1d(y, warn=True)\n",
            "/usr/local/lib/python3.6/dist-packages/sklearn/utils/validation.py:760: DataConversionWarning: A column-vector y was passed when a 1d array was expected. Please change the shape of y to (n_samples, ), for example using ravel().\n",
            "  y = column_or_1d(y, warn=True)\n",
            "/usr/local/lib/python3.6/dist-packages/sklearn/utils/validation.py:760: DataConversionWarning: A column-vector y was passed when a 1d array was expected. Please change the shape of y to (n_samples, ), for example using ravel().\n",
            "  y = column_or_1d(y, warn=True)\n"
          ],
          "name": "stderr"
        },
        {
          "output_type": "stream",
          "text": [
            "C values [0.25, 0.5, 1, 2, 4]\n",
            "Scores [0.9985187298382673, 0.9985077574666988, 0.9985077574666988, 0.9983815751936623, 0.9984254646799359]\n"
          ],
          "name": "stdout"
        }
      ]
    },
    {
      "cell_type": "code",
      "metadata": {
        "id": "f0J2oEJ1_-Kx",
        "outputId": "32bf9b78-b986-4744-a7b7-498e94221686",
        "colab": {
          "base_uri": "https://localhost:8080/",
          "height": 250
        }
      },
      "source": [
        "score_sigmoid_val=[]\n",
        "for C in C_values:\n",
        "  best_sigmoid=SVC(C=C,kernel='rbf').fit(X_val,y_val)\n",
        "  score_sigmoid_val.append(best_sigmoid.score(X_val,y_val))\n",
        "print(C_values)\n",
        "print(score_sigmoid_val)\n"
      ],
      "execution_count": null,
      "outputs": [
        {
          "output_type": "stream",
          "text": [
            "/usr/local/lib/python3.6/dist-packages/sklearn/utils/validation.py:760: DataConversionWarning: A column-vector y was passed when a 1d array was expected. Please change the shape of y to (n_samples, ), for example using ravel().\n",
            "  y = column_or_1d(y, warn=True)\n",
            "/usr/local/lib/python3.6/dist-packages/sklearn/utils/validation.py:760: DataConversionWarning: A column-vector y was passed when a 1d array was expected. Please change the shape of y to (n_samples, ), for example using ravel().\n",
            "  y = column_or_1d(y, warn=True)\n",
            "/usr/local/lib/python3.6/dist-packages/sklearn/utils/validation.py:760: DataConversionWarning: A column-vector y was passed when a 1d array was expected. Please change the shape of y to (n_samples, ), for example using ravel().\n",
            "  y = column_or_1d(y, warn=True)\n",
            "/usr/local/lib/python3.6/dist-packages/sklearn/utils/validation.py:760: DataConversionWarning: A column-vector y was passed when a 1d array was expected. Please change the shape of y to (n_samples, ), for example using ravel().\n",
            "  y = column_or_1d(y, warn=True)\n",
            "/usr/local/lib/python3.6/dist-packages/sklearn/utils/validation.py:760: DataConversionWarning: A column-vector y was passed when a 1d array was expected. Please change the shape of y to (n_samples, ), for example using ravel().\n",
            "  y = column_or_1d(y, warn=True)\n"
          ],
          "name": "stderr"
        },
        {
          "output_type": "stream",
          "text": [
            "[0.25, 0.5, 1, 2, 4]\n",
            "[0.9984419232372885, 0.9989685970725712, 0.9997805525686322, 0.9998463867980425, 0.9999122210274529]\n"
          ],
          "name": "stdout"
        }
      ]
    },
    {
      "cell_type": "code",
      "metadata": {
        "id": "YRyMcV25fP5t",
        "outputId": "b089468f-19e1-430f-913d-50cdc370c68f",
        "colab": {
          "base_uri": "https://localhost:8080/",
          "height": 90
        }
      },
      "source": [
        "best_sigmoid_test=SVC(C=4,kernel='sigmoid').fit(X_test,y_test)\n",
        "print(best_sigmoid_test.score(X_test,y_test))"
      ],
      "execution_count": null,
      "outputs": [
        {
          "output_type": "stream",
          "text": [
            "/usr/local/lib/python3.6/dist-packages/sklearn/utils/validation.py:760: DataConversionWarning: A column-vector y was passed when a 1d array was expected. Please change the shape of y to (n_samples, ), for example using ravel().\n",
            "  y = column_or_1d(y, warn=True)\n"
          ],
          "name": "stderr"
        },
        {
          "output_type": "stream",
          "text": [
            "0.998156665847407\n"
          ],
          "name": "stdout"
        }
      ]
    },
    {
      "cell_type": "markdown",
      "metadata": {
        "id": "LrpSucB3C2cQ"
      },
      "source": [
        "**Question 7** Find weight vectors of 1st Model (on training set)\n"
      ]
    },
    {
      "cell_type": "code",
      "metadata": {
        "id": "wuFwMOzTfP4Z"
      },
      "source": [
        "weights=[]\n",
        "for C in C_values:\n",
        "  kernel_linear = SVC(C=C,kernel='linear')\n",
        "  kernel_linear.fit(X_train,y_train)\n",
        "  coefs=kernel_linear.coef_\n",
        "  weights.append(coefs)\n",
        "print('Values of C',C_values)\n"
      ],
      "execution_count": null,
      "outputs": []
    },
    {
      "cell_type": "code",
      "metadata": {
        "id": "KyvqyxRCGN5h",
        "outputId": "ddcb47d1-1017-408c-e0b8-ca669ccb1dff",
        "colab": {
          "base_uri": "https://localhost:8080/",
          "height": 461
        }
      },
      "source": [
        "for i in range(5):\n",
        "    print('For each Value of C :',C_values[i], 'We have Weights:',weights[i])"
      ],
      "execution_count": null,
      "outputs": [
        {
          "output_type": "stream",
          "text": [
            "For each Value of C : 0.25 We have Weights: [[-0.00487206  0.12793529 -0.0879466   0.01594251  0.0660712   0.0093594\n",
            "   0.00321509 -0.04936028 -0.02204267 -0.1487356  -0.19866867 -0.00174664\n",
            "   0.01204874 -0.05327829 -0.08602537  0.01518337 -0.03164855 -0.1074393\n",
            "  -0.0473202   0.0403001  -0.06508202  0.03564804  0.02285259 -0.00267355\n",
            "   0.00422794 -0.02008879 -0.00295201 -0.05641284 -0.01608951  0.01767778]]\n",
            "For each Value of C : 0.5 We have Weights: [[-0.00494482  0.13692774 -0.09359356  0.01695229  0.07051001  0.01186378\n",
            "   0.00319642 -0.04998997 -0.02316712 -0.16365192 -0.21135231 -0.00750541\n",
            "   0.02855672 -0.06579718 -0.09760478  0.02014839 -0.02926161 -0.11690895\n",
            "  -0.05372556  0.04507341 -0.06895684  0.03916315  0.02610753 -0.00308363\n",
            "   0.00487638 -0.02091082 -0.00319134 -0.06064882 -0.01731832  0.01911923]]\n",
            "For each Value of C : 1 We have Weights: [[-0.00499177  0.13651152 -0.09084096  0.01652443  0.07413661  0.01428632\n",
            "   0.00270545 -0.04823291 -0.02287005 -0.16172481 -0.21495249 -0.0079634\n",
            "   0.03359315 -0.06984661 -0.09894812  0.02168428 -0.02378451 -0.11851055\n",
            "  -0.05864491  0.04800549 -0.06827398  0.04046765  0.02809225 -0.00319231\n",
            "   0.00539317 -0.02086428 -0.00299165 -0.06124458 -0.01751309  0.01954394]]\n",
            "For each Value of C : 2 We have Weights: [[-0.00496407  0.13441735 -0.08533407  0.01471687  0.07991635  0.01924889\n",
            "   0.00181634 -0.0428655  -0.0221427  -0.16168341 -0.21921666 -0.01289103\n",
            "   0.05316376 -0.08326874 -0.1072566   0.02761823 -0.01296148 -0.12473048\n",
            "  -0.06953122  0.0542382  -0.06516907  0.04325207  0.03229654 -0.00370811\n",
            "   0.00580092 -0.0203225  -0.00296174 -0.06098993 -0.0173915   0.01930941]]\n",
            "For each Value of C : 4 We have Weights: [[-0.00491186  0.13154921 -0.07293822  0.0139655   0.09483958  0.02974481\n",
            "   0.00065333 -0.03537825 -0.02177975 -0.14440114 -0.23323375 -0.00907603\n",
            "   0.05786031 -0.08820964 -0.10482148  0.02959948  0.00750329 -0.12795179\n",
            "  -0.08681221  0.06394184 -0.06091833  0.04731168  0.03876806 -0.00436453\n",
            "   0.00634359 -0.01960995 -0.00302407 -0.06159839 -0.01759395  0.01983955]]\n"
          ],
          "name": "stdout"
        }
      ]
    },
    {
      "cell_type": "markdown",
      "metadata": {
        "id": "ubg6X-XeF62p"
      },
      "source": [
        "Above **I have found Weights** for Our Svm model when our **Kernel is Linear**.\n",
        "\n",
        "I have Considered for **each Case of C**."
      ]
    },
    {
      "cell_type": "markdown",
      "metadata": {
        "id": "Ou-lCcctIDAk"
      },
      "source": [
        "**Question 8**  FOR Model $\\alpha$=1 (Linear) Do following:\n",
        "\n",
        "-Finding Error rate (On training Set)\n",
        "\n",
        "-Precision and Recall (On training set)\n",
        "\n",
        "-The number of support vectors (On Training set)"
      ]
    },
    {
      "cell_type": "code",
      "metadata": {
        "id": "CUxYvCtAZ_x1",
        "outputId": "ea17cb49-e7e9-4d5f-996f-71f81f89f20e",
        "colab": {
          "base_uri": "https://localhost:8080/",
          "height": 255
        }
      },
      "source": [
        "# Model # 1\n",
        "\n",
        "error_rate=[]\n",
        "recall_linear=[]\n",
        "precision_linear=[]\n",
        "support_vectors=[]\n",
        "for C in C_values:\n",
        "  kernel_linear = SVC(C=C,kernel='linear')\n",
        "  kernel_linear.fit(X_train,y_train)\n",
        "  y_pred_linear=kernel_linear.predict(X_train)\n",
        "  supp_vec=kernel_linear.support_vectors_\n",
        "  error_rate.append(1-accuracy_score(y_train,y_pred_linear))\n",
        "  recall_linear.append(recall_score(y_train,y_pred_linear))\n",
        "  precision_linear.append(precision_score(y_train,y_pred_linear))\n",
        "  support_vectors.append(supp_vec)\n",
        "print('Values of C:' , C_values)\n",
        "print('Error rate on training set :',error_rate)\n",
        "print('Recall score on training set: ',recall_linear)\n",
        "print('Precision score on training set: ', precision_linear)\n"
      ],
      "execution_count": null,
      "outputs": [
        {
          "output_type": "stream",
          "text": [
            "/usr/local/lib/python3.6/dist-packages/sklearn/utils/validation.py:760: DataConversionWarning: A column-vector y was passed when a 1d array was expected. Please change the shape of y to (n_samples, ), for example using ravel().\n",
            "  y = column_or_1d(y, warn=True)\n",
            "/usr/local/lib/python3.6/dist-packages/sklearn/utils/validation.py:760: DataConversionWarning: A column-vector y was passed when a 1d array was expected. Please change the shape of y to (n_samples, ), for example using ravel().\n",
            "  y = column_or_1d(y, warn=True)\n",
            "/usr/local/lib/python3.6/dist-packages/sklearn/utils/validation.py:760: DataConversionWarning: A column-vector y was passed when a 1d array was expected. Please change the shape of y to (n_samples, ), for example using ravel().\n",
            "  y = column_or_1d(y, warn=True)\n",
            "/usr/local/lib/python3.6/dist-packages/sklearn/utils/validation.py:760: DataConversionWarning: A column-vector y was passed when a 1d array was expected. Please change the shape of y to (n_samples, ), for example using ravel().\n",
            "  y = column_or_1d(y, warn=True)\n",
            "/usr/local/lib/python3.6/dist-packages/sklearn/utils/validation.py:760: DataConversionWarning: A column-vector y was passed when a 1d array was expected. Please change the shape of y to (n_samples, ), for example using ravel().\n",
            "  y = column_or_1d(y, warn=True)\n"
          ],
          "name": "stderr"
        },
        {
          "output_type": "stream",
          "text": [
            "Values of C: [0.25, 0.5, 1, 2, 4]\n",
            "Error rate on training set : [0.000603480436261461, 0.000603480436261461, 0.000603480436261461, 0.000603480436261461, 0.000603480436261461]\n",
            "Recall score on training set:  [0.8018867924528302, 0.8018867924528302, 0.8018867924528302, 0.8018867924528302, 0.8018867924528302]\n",
            "Precision score on training set:  [0.8443708609271523, 0.8443708609271523, 0.8443708609271523, 0.8443708609271523, 0.8443708609271523]\n"
          ],
          "name": "stdout"
        }
      ]
    },
    {
      "cell_type": "code",
      "metadata": {
        "id": "yecjQDnmv3WS",
        "outputId": "b3efce00-cc42-42d3-c66a-32ca908dae82",
        "colab": {
          "base_uri": "https://localhost:8080/",
          "height": 102
        }
      },
      "source": [
        "# exact number of support vectors for each C\n",
        "print(len(support_vectors[0]))\n",
        "print(len(support_vectors[1]))\n",
        "print(len(support_vectors[2]))\n",
        "print(len(support_vectors[3]))\n",
        "print(len(support_vectors[4]))"
      ],
      "execution_count": null,
      "outputs": [
        {
          "output_type": "stream",
          "text": [
            "308\n",
            "305\n",
            "306\n",
            "303\n",
            "309\n"
          ],
          "name": "stdout"
        }
      ]
    },
    {
      "cell_type": "markdown",
      "metadata": {
        "id": "sSEVszTTE_Lt"
      },
      "source": [
        "**Question 9**   For Model $\\alpha$=1 (Linear) Do the following on **VALIDATION SET**:\n",
        "\n",
        "-Error rate\n",
        "\n",
        "-Precision and Recall\n",
        "\n",
        "-$F_{\\beta}$ where $\\beta$ = 0.5,1,2"
      ]
    },
    {
      "cell_type": "code",
      "metadata": {
        "id": "DPVug9WIIoa5",
        "outputId": "cb6bca33-ea9b-4020-ec9b-5fde0995dd8d",
        "colab": {
          "base_uri": "https://localhost:8080/",
          "height": 570
        }
      },
      "source": [
        "# Model # 1\n",
        "\n",
        "error_rate_validation=[]\n",
        "recall_linear_validation=[]\n",
        "precision_linear_validation=[]\n",
        "f_beta_score_0=[]\n",
        "\n",
        "for C in C_values:\n",
        "  kernel_linear_validation = SVC(C=C,kernel='linear')\n",
        "  kernel_linear_validation.fit(X_val,y_val)\n",
        "  y_pred_linear_validation=kernel_linear_validation.predict(X_val)\n",
        "  \n",
        "  error_rate_validation.append(1-accuracy_score(y_val,y_pred_linear_validation))\n",
        "  recall_linear_validation.append(recall_score(y_val,y_pred_linear_validation))\n",
        "  precision_linear_validation.append(precision_score(y_val,y_pred_linear_validation))\n",
        "  \n",
        "print('------------------------------------------------')\n",
        "\n",
        "print('Values of C:' , C_values)\n",
        "print('Error rate on training set :',error_rate_validation)\n",
        "print('Recall score on training set: ',recall_linear_validation)\n",
        "print('Precision score on training set: ', precision_linear_validation)\n",
        "print('------------------------------------------------')\n",
        "print(fbeta_score(y_val,y_pred_linear_validation,average='binary',beta=0.5))\n",
        "print(fbeta_score(y_val,y_pred_linear_validation,average='micro',beta=0.5))\n",
        "print(fbeta_score(y_val,y_pred_linear_validation,average='macro',beta=0.5))\n",
        "print(fbeta_score(y_val,y_pred_linear_validation,average='weighted',beta=0.5))\n",
        "print('------------------------------------------------')\n",
        "print(fbeta_score(y_val,y_pred_linear_validation,average='binary',beta=1))\n",
        "print(fbeta_score(y_val,y_pred_linear_validation,average='micro',beta=1))\n",
        "print(fbeta_score(y_val,y_pred_linear_validation,average='macro',beta=1))\n",
        "print(fbeta_score(y_val,y_pred_linear_validation,average='weighted',beta=1))\n",
        "print('------------------------------------------------')\n",
        "print(fbeta_score(y_val,y_pred_linear_validation,average='binary',beta=2))\n",
        "print(fbeta_score(y_val,y_pred_linear_validation,average='micro',beta=2))\n",
        "print(fbeta_score(y_val,y_pred_linear_validation,average='macro',beta=2))\n",
        "print(fbeta_score(y_val,y_pred_linear_validation,average='weighted',beta=2))"
      ],
      "execution_count": null,
      "outputs": [
        {
          "output_type": "stream",
          "text": [
            "/usr/local/lib/python3.6/dist-packages/sklearn/utils/validation.py:760: DataConversionWarning: A column-vector y was passed when a 1d array was expected. Please change the shape of y to (n_samples, ), for example using ravel().\n",
            "  y = column_or_1d(y, warn=True)\n",
            "/usr/local/lib/python3.6/dist-packages/sklearn/utils/validation.py:760: DataConversionWarning: A column-vector y was passed when a 1d array was expected. Please change the shape of y to (n_samples, ), for example using ravel().\n",
            "  y = column_or_1d(y, warn=True)\n",
            "/usr/local/lib/python3.6/dist-packages/sklearn/utils/validation.py:760: DataConversionWarning: A column-vector y was passed when a 1d array was expected. Please change the shape of y to (n_samples, ), for example using ravel().\n",
            "  y = column_or_1d(y, warn=True)\n",
            "/usr/local/lib/python3.6/dist-packages/sklearn/utils/validation.py:760: DataConversionWarning: A column-vector y was passed when a 1d array was expected. Please change the shape of y to (n_samples, ), for example using ravel().\n",
            "  y = column_or_1d(y, warn=True)\n",
            "/usr/local/lib/python3.6/dist-packages/sklearn/utils/validation.py:760: DataConversionWarning: A column-vector y was passed when a 1d array was expected. Please change the shape of y to (n_samples, ), for example using ravel().\n",
            "  y = column_or_1d(y, warn=True)\n"
          ],
          "name": "stderr"
        },
        {
          "output_type": "stream",
          "text": [
            "------------------------------------------------\n",
            "Values of C: [0.25, 0.5, 1, 2, 4]\n",
            "Error rate on training set : [0.00041695011959885786, 0.00041695011959885786, 0.00041695011959885786, 0.00043889486273562817, 0.00039500537646208755]\n",
            "Recall score on training set:  [0.8591549295774648, 0.8591549295774648, 0.8591549295774648, 0.8591549295774648, 0.8591549295774648]\n",
            "Precision score on training set:  [0.8714285714285714, 0.8714285714285714, 0.8714285714285714, 0.8591549295774648, 0.8840579710144928]\n",
            "------------------------------------------------\n",
            "0.8789625360230546\n",
            "0.9996049946235379\n",
            "0.9393757725786005\n",
            "0.9996007522140714\n",
            "------------------------------------------------\n",
            "0.8714285714285713\n",
            "0.9996049946235379\n",
            "0.9356153824416863\n",
            "0.9996021774973771\n",
            "------------------------------------------------\n",
            "0.8640226628895185\n",
            "0.9996049946235379\n",
            "0.9319190205063526\n",
            "0.9996038026490356\n"
          ],
          "name": "stdout"
        }
      ]
    },
    {
      "cell_type": "markdown",
      "metadata": {
        "id": "Vn1NPeZfOfje"
      },
      "source": [
        "Moreover above I have considered Different   **$\\alpha$**    values with different average values."
      ]
    },
    {
      "cell_type": "markdown",
      "metadata": {
        "id": "CECUrOIJMDx1"
      },
      "source": [
        "At C=4 our model show less error rate, which says that it's score is better . We will use this C on testing data."
      ]
    },
    {
      "cell_type": "markdown",
      "metadata": {
        "id": "eBcPbJ4_tRyV"
      },
      "source": [
        "**Question 10 and 11**\n",
        "\n",
        "\n",
        "- Finding **weight** vectors for models $\\alpha$= 2,3,4 on Training set\n",
        "(I am not sure is it correct, because We can find weights in the case of Linear Kernel)\n",
        "\n",
        "- Do subproblems like in question 8-9 to models: 2,3,4 "
      ]
    },
    {
      "cell_type": "code",
      "metadata": {
        "id": "CVXVAfLWSPGc"
      },
      "source": [
        "weights2=[]\n",
        "for C in C_values:\n",
        "  model2=SVC(C=C,kernel='poly').fit(X_train,y_train)\n",
        "  weights2.append(model2.dual_coef_)\n"
      ],
      "execution_count": null,
      "outputs": []
    },
    {
      "cell_type": "code",
      "metadata": {
        "id": "12CIQPwoEx6T",
        "outputId": "c2ce5283-f61f-46e5-fb77-6c282f9add25",
        "colab": {
          "base_uri": "https://localhost:8080/",
          "height": 105
        }
      },
      "source": [
        "# As each models vector  weiths are huge , I decided to print their length for each case of C\n",
        "print(weights2[0].shape)\n",
        "print(weights2[1].shape)\n",
        "print(weights2[2].shape)\n",
        "print(weights2[3].shape)\n",
        "print(weights2[4].shape)"
      ],
      "execution_count": null,
      "outputs": [
        {
          "output_type": "stream",
          "text": [
            "(1, 537)\n",
            "(1, 581)\n",
            "(1, 639)\n",
            "(1, 681)\n",
            "(1, 775)\n"
          ],
          "name": "stdout"
        }
      ]
    },
    {
      "cell_type": "code",
      "metadata": {
        "id": "CjWFxDu6SPFR"
      },
      "source": [
        "weights3=[]\n",
        "for C in C_values:\n",
        "  model3=SVC(C=C,kernel='rbf').fit(X_train,y_train)\n",
        "  weights3.append(model3.dual_coef_)\n"
      ],
      "execution_count": null,
      "outputs": []
    },
    {
      "cell_type": "code",
      "metadata": {
        "id": "XWOOKJLgIxdU",
        "outputId": "ff1a79ed-b810-4d07-f670-7699d463ff32",
        "colab": {
          "base_uri": "https://localhost:8080/",
          "height": 105
        }
      },
      "source": [
        "print(weights3[0].shape)\n",
        "print(weights3[1].shape)\n",
        "print(weights3[2].shape)\n",
        "print(weights3[3].shape)\n",
        "print(weights3[4].shape)"
      ],
      "execution_count": null,
      "outputs": [
        {
          "output_type": "stream",
          "text": [
            "(1, 2957)\n",
            "(1, 2940)\n",
            "(1, 2861)\n",
            "(1, 2727)\n",
            "(1, 2534)\n"
          ],
          "name": "stdout"
        }
      ]
    },
    {
      "cell_type": "code",
      "metadata": {
        "id": "tiylKsILSPCm"
      },
      "source": [
        "weights4=[]\n",
        "for C in C_values:\n",
        "  model4=SVC(C=C,kernel='sigmoid').fit(X_train,y_train)\n",
        "  weights4.append(model4.dual_coef_)\n",
        " # it's too large to display, I just took for first C to see"
      ],
      "execution_count": null,
      "outputs": []
    },
    {
      "cell_type": "code",
      "metadata": {
        "id": "1ML9kEkDuvP5",
        "outputId": "4ec23e12-4e3e-4f82-f00c-ed4911d0c634",
        "colab": {
          "base_uri": "https://localhost:8080/",
          "height": 105
        }
      },
      "source": [
        "print(weights4[0].shape)\n",
        "print(weights4[1].shape)\n",
        "print(weights4[2].shape)\n",
        "print(weights4[3].shape)\n",
        "print(weights4[4].shape)"
      ],
      "execution_count": null,
      "outputs": [
        {
          "output_type": "stream",
          "text": [
            "(1, 329)\n",
            "(1, 320)\n",
            "(1, 314)\n",
            "(1, 312)\n",
            "(1, 311)\n"
          ],
          "name": "stdout"
        }
      ]
    },
    {
      "cell_type": "code",
      "metadata": {
        "id": "xGHG3-c8uvUx"
      },
      "source": [
        ""
      ],
      "execution_count": null,
      "outputs": []
    },
    {
      "cell_type": "markdown",
      "metadata": {
        "id": "PmSEQO2A3SCA"
      },
      "source": [
        "First let's do everything for **training set** (accuracy,recall and precision)"
      ]
    },
    {
      "cell_type": "code",
      "metadata": {
        "id": "1IxryRxWzBYz",
        "outputId": "a5d6bc3e-34b9-4043-a74b-ab98a936ff02",
        "colab": {
          "base_uri": "https://localhost:8080/",
          "height": 285
        }
      },
      "source": [
        "# Model 2\n",
        "error_rate_poly=[]\n",
        "recall_poly=[]\n",
        "precision_poly=[]\n",
        "support_vectors_poly=[]\n",
        "for C in C_values:\n",
        "  kernel_poly = SVC(C=C,kernel='poly')\n",
        "  kernel_poly.fit(X_train,y_train)\n",
        "  y_pred_poly=kernel_poly.predict(X_train)\n",
        "  supp_vec_poly=kernel_poly.support_vectors_\n",
        "  error_rate_poly.append(1-accuracy_score(y_train,y_pred_poly))\n",
        "  recall_poly.append(recall_score(y_train,y_pred_poly))\n",
        "  precision_poly.append(precision_score(y_train,y_pred_poly))\n",
        "  support_vectors_poly.append(supp_vec_poly)\n",
        "print('Values of C:' , C_values)\n",
        "print('Error rate on training set :',error_rate_poly)\n",
        "print('Recall score on training set: ',recall_poly)\n",
        "print('Precision score on training set: ', precision_poly)"
      ],
      "execution_count": null,
      "outputs": [
        {
          "output_type": "stream",
          "text": [
            "/usr/local/lib/python3.6/dist-packages/sklearn/utils/validation.py:760: DataConversionWarning: A column-vector y was passed when a 1d array was expected. Please change the shape of y to (n_samples, ), for example using ravel().\n",
            "  y = column_or_1d(y, warn=True)\n",
            "/usr/local/lib/python3.6/dist-packages/sklearn/utils/validation.py:760: DataConversionWarning: A column-vector y was passed when a 1d array was expected. Please change the shape of y to (n_samples, ), for example using ravel().\n",
            "  y = column_or_1d(y, warn=True)\n",
            "/usr/local/lib/python3.6/dist-packages/sklearn/utils/validation.py:760: DataConversionWarning: A column-vector y was passed when a 1d array was expected. Please change the shape of y to (n_samples, ), for example using ravel().\n",
            "  y = column_or_1d(y, warn=True)\n",
            "/usr/local/lib/python3.6/dist-packages/sklearn/utils/validation.py:760: DataConversionWarning: A column-vector y was passed when a 1d array was expected. Please change the shape of y to (n_samples, ), for example using ravel().\n",
            "  y = column_or_1d(y, warn=True)\n",
            "/usr/local/lib/python3.6/dist-packages/sklearn/utils/validation.py:760: DataConversionWarning: A column-vector y was passed when a 1d array was expected. Please change the shape of y to (n_samples, ), for example using ravel().\n",
            "  y = column_or_1d(y, warn=True)\n"
          ],
          "name": "stderr"
        },
        {
          "output_type": "stream",
          "text": [
            "Values of C: [0.25, 0.5, 1, 2, 4]\n",
            "Error rate on training set : [0.00025236454607302505, 0.00021396124558359375, 0.0002029888740152641, 0.0001865303166626031, 0.0001865303166626031]\n",
            "Recall score on training set:  [0.8491803278688524, 0.8721311475409836, 0.8786885245901639, 0.8885245901639345, 0.8885245901639345]\n",
            "Precision score on training set:  [1.0, 1.0, 1.0, 1.0, 1.0]\n"
          ],
          "name": "stdout"
        }
      ]
    },
    {
      "cell_type": "code",
      "metadata": {
        "id": "Y0LusTuv4aY1",
        "outputId": "b2987afc-be4f-4f3a-89a0-17dd44ae5392",
        "colab": {
          "base_uri": "https://localhost:8080/",
          "height": 105
        }
      },
      "source": [
        "print(support_vectors_poly[0].shape)\n",
        "print(support_vectors_poly[1].shape)\n",
        "print(support_vectors_poly[2].shape)\n",
        "print(support_vectors_poly[3].shape)\n",
        "print(support_vectors_poly[4].shape)"
      ],
      "execution_count": null,
      "outputs": [
        {
          "output_type": "stream",
          "text": [
            "(537, 30)\n",
            "(581, 30)\n",
            "(639, 30)\n",
            "(681, 30)\n",
            "(775, 30)\n"
          ],
          "name": "stdout"
        }
      ]
    },
    {
      "cell_type": "code",
      "metadata": {
        "id": "oyd6Uynb4aV7",
        "outputId": "9113ba96-8f0b-420d-c4ea-28239c695123",
        "colab": {
          "base_uri": "https://localhost:8080/",
          "height": 285
        }
      },
      "source": [
        "# Model 3\n",
        "error_rate_rbf=[]\n",
        "recall_rbf=[]\n",
        "precision_rbf=[]\n",
        "support_vectors_rbf=[]\n",
        "for C in C_values:\n",
        "  kernel_rbf = SVC(C=C,kernel='rbf')\n",
        "  kernel_rbf.fit(X_train,y_train)\n",
        "  y_pred_rbf=kernel_rbf.predict(X_train)\n",
        "  supp_vec_rbf=kernel_rbf.support_vectors_\n",
        "  error_rate_rbf.append(1-accuracy_score(y_train,y_pred_rbf))\n",
        "  recall_rbf.append(recall_score(y_train,y_pred_rbf))\n",
        "  precision_rbf.append(precision_score(y_train,y_pred_rbf))\n",
        "  support_vectors_rbf.append(supp_vec_rbf)\n",
        "print('Values of C:' , C_values)\n",
        "print('Error rate on training set :',error_rate_poly)\n",
        "print('Recall score on training set: ',recall_poly)\n",
        "print('Precision score on training set: ', precision_poly)"
      ],
      "execution_count": null,
      "outputs": [
        {
          "output_type": "stream",
          "text": [
            "/usr/local/lib/python3.6/dist-packages/sklearn/utils/validation.py:760: DataConversionWarning: A column-vector y was passed when a 1d array was expected. Please change the shape of y to (n_samples, ), for example using ravel().\n",
            "  y = column_or_1d(y, warn=True)\n",
            "/usr/local/lib/python3.6/dist-packages/sklearn/utils/validation.py:760: DataConversionWarning: A column-vector y was passed when a 1d array was expected. Please change the shape of y to (n_samples, ), for example using ravel().\n",
            "  y = column_or_1d(y, warn=True)\n",
            "/usr/local/lib/python3.6/dist-packages/sklearn/utils/validation.py:760: DataConversionWarning: A column-vector y was passed when a 1d array was expected. Please change the shape of y to (n_samples, ), for example using ravel().\n",
            "  y = column_or_1d(y, warn=True)\n",
            "/usr/local/lib/python3.6/dist-packages/sklearn/utils/validation.py:760: DataConversionWarning: A column-vector y was passed when a 1d array was expected. Please change the shape of y to (n_samples, ), for example using ravel().\n",
            "  y = column_or_1d(y, warn=True)\n",
            "/usr/local/lib/python3.6/dist-packages/sklearn/utils/validation.py:760: DataConversionWarning: A column-vector y was passed when a 1d array was expected. Please change the shape of y to (n_samples, ), for example using ravel().\n",
            "  y = column_or_1d(y, warn=True)\n"
          ],
          "name": "stderr"
        },
        {
          "output_type": "stream",
          "text": [
            "Values of C: [0.25, 0.5, 1, 2, 4]\n",
            "Error rate on training set : [0.00025236454607302505, 0.00021396124558359375, 0.0002029888740152641, 0.0001865303166626031, 0.0001865303166626031]\n",
            "Recall score on training set:  [0.8491803278688524, 0.8721311475409836, 0.8786885245901639, 0.8885245901639345, 0.8885245901639345]\n",
            "Precision score on training set:  [1.0, 1.0, 1.0, 1.0, 1.0]\n"
          ],
          "name": "stdout"
        }
      ]
    },
    {
      "cell_type": "code",
      "metadata": {
        "id": "4VZHqMmszBVs",
        "outputId": "5e5eef24-53f4-42c9-f7e6-47e54700cf8a",
        "colab": {
          "base_uri": "https://localhost:8080/",
          "height": 105
        }
      },
      "source": [
        "print(support_vectors_rbf[0].shape)\n",
        "print(support_vectors_rbf[1].shape)\n",
        "print(support_vectors_rbf[2].shape)\n",
        "print(support_vectors_rbf[3].shape)\n",
        "print(support_vectors_rbf[4].shape)"
      ],
      "execution_count": null,
      "outputs": [
        {
          "output_type": "stream",
          "text": [
            "(2957, 30)\n",
            "(2940, 30)\n",
            "(2861, 30)\n",
            "(2727, 30)\n",
            "(2534, 30)\n"
          ],
          "name": "stdout"
        }
      ]
    },
    {
      "cell_type": "code",
      "metadata": {
        "id": "XCroEHAl5DsX",
        "outputId": "929f7f70-3529-4148-faa8-15196357b608",
        "colab": {
          "base_uri": "https://localhost:8080/",
          "height": 285
        }
      },
      "source": [
        "# Model 4\n",
        "error_rate_sigmoid=[]\n",
        "recall_sigmoid=[]\n",
        "precision_sigmoid=[]\n",
        "support_vectors_sigmoid=[]\n",
        "for C in C_values:\n",
        "  kernel_sigmoid = SVC(C=C,kernel='sigmoid')\n",
        "  kernel_sigmoid.fit(X_train,y_train)\n",
        "  y_pred_sigmoid=kernel_sigmoid.predict(X_train)\n",
        "  supp_vec_sigmoid=kernel_sigmoid.support_vectors_\n",
        "  error_rate_sigmoid.append(1-accuracy_score(y_train,y_pred_sigmoid))\n",
        "  recall_sigmoid.append(recall_score(y_train,y_pred_sigmoid))\n",
        "  precision_sigmoid.append(precision_score(y_train,y_pred_sigmoid))\n",
        "  support_vectors_sigmoid.append(supp_vec_sigmoid)\n",
        "print('Values of C:' , C_values)\n",
        "print('Error rate on training set :',error_rate_sigmoid)\n",
        "print('Recall score on training set: ',recall_sigmoid)\n",
        "print('Precision score on training set: ', precision_sigmoid)"
      ],
      "execution_count": null,
      "outputs": [
        {
          "output_type": "stream",
          "text": [
            "/usr/local/lib/python3.6/dist-packages/sklearn/utils/validation.py:760: DataConversionWarning: A column-vector y was passed when a 1d array was expected. Please change the shape of y to (n_samples, ), for example using ravel().\n",
            "  y = column_or_1d(y, warn=True)\n",
            "/usr/local/lib/python3.6/dist-packages/sklearn/utils/validation.py:760: DataConversionWarning: A column-vector y was passed when a 1d array was expected. Please change the shape of y to (n_samples, ), for example using ravel().\n",
            "  y = column_or_1d(y, warn=True)\n",
            "/usr/local/lib/python3.6/dist-packages/sklearn/utils/validation.py:760: DataConversionWarning: A column-vector y was passed when a 1d array was expected. Please change the shape of y to (n_samples, ), for example using ravel().\n",
            "  y = column_or_1d(y, warn=True)\n",
            "/usr/local/lib/python3.6/dist-packages/sklearn/utils/validation.py:760: DataConversionWarning: A column-vector y was passed when a 1d array was expected. Please change the shape of y to (n_samples, ), for example using ravel().\n",
            "  y = column_or_1d(y, warn=True)\n",
            "/usr/local/lib/python3.6/dist-packages/sklearn/utils/validation.py:760: DataConversionWarning: A column-vector y was passed when a 1d array was expected. Please change the shape of y to (n_samples, ), for example using ravel().\n",
            "  y = column_or_1d(y, warn=True)\n"
          ],
          "name": "stderr"
        },
        {
          "output_type": "stream",
          "text": [
            "Values of C: [0.25, 0.5, 1, 2, 4]\n",
            "Error rate on training set : [0.0015855076916324595, 0.0015635629484956892, 0.0016678004783954314, 0.0016732866641795408, 0.0016897452215322017]\n",
            "Recall score on training set:  [0.4786885245901639, 0.4885245901639344, 0.4918032786885246, 0.4918032786885246, 0.4918032786885246]\n",
            "Precision score on training set:  [0.5289855072463768, 0.5359712230215827, 0.5016722408026756, 0.5, 0.49504950495049505]\n"
          ],
          "name": "stdout"
        }
      ]
    },
    {
      "cell_type": "code",
      "metadata": {
        "id": "UQa56sUW5Dpc",
        "outputId": "ac7e79e5-35b8-454a-bef0-971fb9bb23e4",
        "colab": {
          "base_uri": "https://localhost:8080/",
          "height": 105
        }
      },
      "source": [
        "print(support_vectors_sigmoid[0].shape)\n",
        "print(support_vectors_sigmoid[1].shape)\n",
        "print(support_vectors_sigmoid[2].shape)\n",
        "print(support_vectors_sigmoid[3].shape)\n",
        "print(support_vectors_sigmoid[4].shape)"
      ],
      "execution_count": null,
      "outputs": [
        {
          "output_type": "stream",
          "text": [
            "(329, 30)\n",
            "(320, 30)\n",
            "(314, 30)\n",
            "(312, 30)\n",
            "(311, 30)\n"
          ],
          "name": "stdout"
        }
      ]
    },
    {
      "cell_type": "markdown",
      "metadata": {
        "id": "eKgyYGx96H7r"
      },
      "source": [
        "Now let's check **in Validation set** everything for models 2,3,4"
      ]
    },
    {
      "cell_type": "code",
      "metadata": {
        "id": "sMhFDMup5xdO",
        "outputId": "aa594597-d6da-4eed-b9c4-3d2fbfd1a0ab",
        "colab": {
          "base_uri": "https://localhost:8080/",
          "height": 570
        }
      },
      "source": [
        "# Model # 2\n",
        "\n",
        "error_rate_validation_poly=[]\n",
        "recall_poly_validation=[]\n",
        "precision_poly_validation=[]\n",
        "\n",
        "\n",
        "for C in C_values:\n",
        "  kernel_poly_validation = SVC(C=C,kernel='poly')\n",
        "  kernel_poly_validation.fit(X_val,y_val)\n",
        "  y_pred_poly_validation=kernel_poly_validation.predict(X_val)\n",
        "  \n",
        "  error_rate_validation_poly.append(1-accuracy_score(y_val,y_pred_poly_validation))\n",
        "  recall_poly_validation.append(recall_score(y_val,y_pred_poly_validation))\n",
        "  precision_poly_validation.append(precision_score(y_val,y_pred_poly_validation))\n",
        "\n",
        "print('------------------------------------------------')\n",
        "\n",
        "print('Values of C:' , C_values)\n",
        "print('Error rate on training set :',error_rate_validation_poly)\n",
        "print('Recall score on training set: ',recall_poly_validation)\n",
        "print('Precision score on training set: ', precision_poly_validation)\n",
        "print('------------------------------------------------')\n",
        "print(fbeta_score(y_val,y_pred_poly_validation,average='binary',beta=0.5))\n",
        "print(fbeta_score(y_val,y_pred_poly_validation,average='micro',beta=0.5))\n",
        "print(fbeta_score(y_val,y_pred_poly_validation,average='macro',beta=0.5))\n",
        "print(fbeta_score(y_val,y_pred_poly_validation,average='weighted',beta=0.5))\n",
        "print('------------------------------------------------')\n",
        "print(fbeta_score(y_val,y_pred_poly_validation,average='binary',beta=1))\n",
        "print(fbeta_score(y_val,y_pred_poly_validation,average='micro',beta=1))\n",
        "print(fbeta_score(y_val,y_pred_poly_validation,average='macro',beta=1))\n",
        "print(fbeta_score(y_val,y_pred_poly_validation,average='weighted',beta=1))\n",
        "print('------------------------------------------------')\n",
        "print(fbeta_score(y_val,y_pred_poly_validation,average='binary',beta=2))\n",
        "print(fbeta_score(y_val,y_pred_poly_validation,average='micro',beta=2))\n",
        "print(fbeta_score(y_val,y_pred_poly_validation,average='macro',beta=2))\n",
        "print(fbeta_score(y_val,y_pred_poly_validation,average='weighted',beta=2))"
      ],
      "execution_count": null,
      "outputs": [
        {
          "output_type": "stream",
          "text": [
            "/usr/local/lib/python3.6/dist-packages/sklearn/utils/validation.py:760: DataConversionWarning: A column-vector y was passed when a 1d array was expected. Please change the shape of y to (n_samples, ), for example using ravel().\n",
            "  y = column_or_1d(y, warn=True)\n",
            "/usr/local/lib/python3.6/dist-packages/sklearn/utils/validation.py:760: DataConversionWarning: A column-vector y was passed when a 1d array was expected. Please change the shape of y to (n_samples, ), for example using ravel().\n",
            "  y = column_or_1d(y, warn=True)\n",
            "/usr/local/lib/python3.6/dist-packages/sklearn/utils/validation.py:760: DataConversionWarning: A column-vector y was passed when a 1d array was expected. Please change the shape of y to (n_samples, ), for example using ravel().\n",
            "  y = column_or_1d(y, warn=True)\n",
            "/usr/local/lib/python3.6/dist-packages/sklearn/utils/validation.py:760: DataConversionWarning: A column-vector y was passed when a 1d array was expected. Please change the shape of y to (n_samples, ), for example using ravel().\n",
            "  y = column_or_1d(y, warn=True)\n",
            "/usr/local/lib/python3.6/dist-packages/sklearn/utils/validation.py:760: DataConversionWarning: A column-vector y was passed when a 1d array was expected. Please change the shape of y to (n_samples, ), for example using ravel().\n",
            "  y = column_or_1d(y, warn=True)\n"
          ],
          "name": "stderr"
        },
        {
          "output_type": "stream",
          "text": [
            "------------------------------------------------\n",
            "Values of C: [0.25, 0.5, 1, 2, 4]\n",
            "Error rate on training set : [0.0002413921745045844, 0.00021944743136781408, 0.00015361320195750316, 6.583422941031092e-05, 6.583422941031092e-05]\n",
            "Recall score on training set:  [0.875, 0.8863636363636364, 0.9204545454545454, 0.9659090909090909, 0.9659090909090909]\n",
            "Precision score on training set:  [1.0, 1.0, 1.0, 1.0, 1.0]\n",
            "------------------------------------------------\n",
            "0.9929906542056076\n",
            "0.9999341657705897\n",
            "0.9964689438508921\n",
            "0.9999337993857602\n",
            "------------------------------------------------\n",
            "0.9826589595375723\n",
            "0.9999341657705897\n",
            "0.9913129899100492\n",
            "0.9999335960391688\n",
            "------------------------------------------------\n",
            "0.9725400457665905\n",
            "0.9999341657705897\n",
            "0.9862634268092785\n",
            "0.9999338043833034\n"
          ],
          "name": "stdout"
        }
      ]
    },
    {
      "cell_type": "code",
      "metadata": {
        "id": "_i2WV1Hj5xh1"
      },
      "source": [
        "# At C=1 we have less error rate, we will use this C in testing "
      ],
      "execution_count": null,
      "outputs": []
    },
    {
      "cell_type": "code",
      "metadata": {
        "id": "P-pEwieL5xbl",
        "outputId": "a884eb14-d337-4ad3-8ebc-ec04e2228674",
        "colab": {
          "base_uri": "https://localhost:8080/",
          "height": 570
        }
      },
      "source": [
        "# Model # 3\n",
        "\n",
        "error_rate_validation_rbf=[]\n",
        "recall_rbf_validation=[]\n",
        "precision_rbf_validation=[]\n",
        "\n",
        "\n",
        "for C in C_values:\n",
        "  kernel_rbf_validation = SVC(C=C,kernel='rbf')\n",
        "  kernel_rbf_validation.fit(X_val,y_val)\n",
        "  y_pred_rbf_validation=kernel_rbf_validation.predict(X_val)\n",
        "  \n",
        "  error_rate_validation_rbf.append(1-accuracy_score(y_val,y_pred_rbf_validation))\n",
        "  recall_rbf_validation.append(recall_score(y_val,y_pred_rbf_validation))\n",
        "  precision_rbf_validation.append(precision_score(y_val,y_pred_rbf_validation))\n",
        "  \n",
        "\n",
        "\n",
        "print('------------------------------------------------')\n",
        "\n",
        "print('Values of C:' , C_values)\n",
        "print('Error rate on training set :',error_rate_validation_rbf)\n",
        "print('Recall score on training set: ',recall_rbf_validation)\n",
        "print('Precision score on training set: ', precision_rbf_validation)\n",
        "print('------------------------------------------------')\n",
        "\n",
        "\n",
        "print(fbeta_score(y_val,y_pred_rbf_validation,average='binary',beta=0.5))\n",
        "print(fbeta_score(y_val,y_pred_rbf_validation,average='micro',beta=0.5))\n",
        "print(fbeta_score(y_val,y_pred_rbf_validation,average='macro',beta=0.5))\n",
        "print(fbeta_score(y_val,y_pred_rbf_validation,average='weighted',beta=0.5))\n",
        "\n",
        "print('------------------------------------------------')\n",
        "\n",
        "print(fbeta_score(y_val,y_pred_rbf_validation,average='binary',beta=1))\n",
        "print(fbeta_score(y_val,y_pred_rbf_validation,average='micro',beta=1))\n",
        "print(fbeta_score(y_val,y_pred_rbf_validation,average='macro',beta=1))\n",
        "print(fbeta_score(y_val,y_pred_rbf_validation,average='weighted',beta=1))\n",
        "print('------------------------------------------------')\n",
        "print(fbeta_score(y_val,y_pred_rbf_validation,average='binary',beta=2))\n",
        "print(fbeta_score(y_val,y_pred_rbf_validation,average='micro',beta=2))\n",
        "print(fbeta_score(y_val,y_pred_rbf_validation,average='macro',beta=2))\n",
        "print(fbeta_score(y_val,y_pred_rbf_validation,average='weighted',beta=2))"
      ],
      "execution_count": null,
      "outputs": [
        {
          "output_type": "stream",
          "text": [
            "/usr/local/lib/python3.6/dist-packages/sklearn/utils/validation.py:760: DataConversionWarning: A column-vector y was passed when a 1d array was expected. Please change the shape of y to (n_samples, ), for example using ravel().\n",
            "  y = column_or_1d(y, warn=True)\n",
            "/usr/local/lib/python3.6/dist-packages/sklearn/utils/validation.py:760: DataConversionWarning: A column-vector y was passed when a 1d array was expected. Please change the shape of y to (n_samples, ), for example using ravel().\n",
            "  y = column_or_1d(y, warn=True)\n",
            "/usr/local/lib/python3.6/dist-packages/sklearn/utils/validation.py:760: DataConversionWarning: A column-vector y was passed when a 1d array was expected. Please change the shape of y to (n_samples, ), for example using ravel().\n",
            "  y = column_or_1d(y, warn=True)\n",
            "/usr/local/lib/python3.6/dist-packages/sklearn/utils/validation.py:760: DataConversionWarning: A column-vector y was passed when a 1d array was expected. Please change the shape of y to (n_samples, ), for example using ravel().\n",
            "  y = column_or_1d(y, warn=True)\n",
            "/usr/local/lib/python3.6/dist-packages/sklearn/utils/validation.py:760: DataConversionWarning: A column-vector y was passed when a 1d array was expected. Please change the shape of y to (n_samples, ), for example using ravel().\n",
            "  y = column_or_1d(y, warn=True)\n"
          ],
          "name": "stderr"
        },
        {
          "output_type": "stream",
          "text": [
            "------------------------------------------------\n",
            "Values of C: [0.25, 0.5, 1, 2, 4]\n",
            "Error rate on training set : [0.0015361320195746986, 0.0009216792117447969, 0.000285281660778125, 0.0002413921745045844, 6.583422941031092e-05]\n",
            "Recall score on training set:  [0.20454545454545456, 0.5227272727272727, 0.8522727272727273, 0.875, 0.9659090909090909]\n",
            "Precision score on training set:  [1.0, 1.0, 1.0, 1.0, 1.0]\n",
            "------------------------------------------------\n",
            "0.9929906542056076\n",
            "0.9999341657705897\n",
            "0.9964689438508921\n",
            "0.9999337993857602\n",
            "------------------------------------------------\n",
            "0.9826589595375723\n",
            "0.9999341657705897\n",
            "0.9913129899100492\n",
            "0.9999335960391688\n",
            "------------------------------------------------\n",
            "0.9725400457665905\n",
            "0.9999341657705897\n",
            "0.9862634268092785\n",
            "0.9999338043833034\n"
          ],
          "name": "stdout"
        }
      ]
    },
    {
      "cell_type": "code",
      "metadata": {
        "id": "5wscIsSY5xZk"
      },
      "source": [
        ""
      ],
      "execution_count": null,
      "outputs": []
    },
    {
      "cell_type": "code",
      "metadata": {
        "id": "m2XTGNPg5xX6",
        "outputId": "1bc1694f-4a55-45da-f318-e330aa52c3c6",
        "colab": {
          "base_uri": "https://localhost:8080/",
          "height": 570
        }
      },
      "source": [
        "# Model # 4\n",
        "\n",
        "error_rate_validation_sigmoid=[]\n",
        "recall_sigmoid_validation=[]\n",
        "precision_sigmoid_validation=[]\n",
        "\n",
        "\n",
        "for C in C_values:\n",
        "  kernel_sigmoid_validation = SVC(C=C,kernel='sigmoid')\n",
        "  kernel_sigmoid_validation.fit(X_val,y_val)\n",
        "  y_pred_sigmoid_validation=kernel_sigmoid_validation.predict(X_val)\n",
        "  \n",
        "  error_rate_validation_sigmoid.append(1-accuracy_score(y_val,y_pred_sigmoid_validation))\n",
        "  recall_sigmoid_validation.append(recall_score(y_val,y_pred_sigmoid_validation))\n",
        "  precision_sigmoid_validation.append(precision_score(y_val,y_pred_sigmoid_validation))\n",
        "  \n",
        "\n",
        "\n",
        "print('------------------------------------------------')\n",
        "print('Values of C:' , C_values)\n",
        "print('Error rate on training set :',error_rate_validation_sigmoid)\n",
        "print('Recall score on training set: ',recall_sigmoid_validation)\n",
        "print('Precision score on training set: ', precision_sigmoid_validation)\n",
        "print('------------------------------------------------')\n",
        "print(fbeta_score(y_val,y_pred_sigmoid_validation,average='binary',beta=0.5))\n",
        "print(fbeta_score(y_val,y_pred_sigmoid_validation,average='micro',beta=0.5))\n",
        "print(fbeta_score(y_val,y_pred_sigmoid_validation,average='macro',beta=0.5))\n",
        "print(fbeta_score(y_val,y_pred_sigmoid_validation,average='weighted',beta=0.5))\n",
        "print('------------------------------------------------')\n",
        "print(fbeta_score(y_val,y_pred_sigmoid_validation,average='binary',beta=1))\n",
        "print(fbeta_score(y_val,y_pred_sigmoid_validation,average='micro',beta=1))\n",
        "print(fbeta_score(y_val,y_pred_sigmoid_validation,average='macro',beta=1))\n",
        "print(fbeta_score(y_val,y_pred_sigmoid_validation,average='weighted',beta=1))\n",
        "print('------------------------------------------------')\n",
        "print(fbeta_score(y_val,y_pred_sigmoid_validation,average='binary',beta=2))\n",
        "print(fbeta_score(y_val,y_pred_sigmoid_validation,average='micro',beta=2))\n",
        "print(fbeta_score(y_val,y_pred_sigmoid_validation,average='macro',beta=2))\n",
        "print(fbeta_score(y_val,y_pred_sigmoid_validation,average='weighted',beta=2))"
      ],
      "execution_count": null,
      "outputs": [
        {
          "output_type": "stream",
          "text": [
            "/usr/local/lib/python3.6/dist-packages/sklearn/utils/validation.py:760: DataConversionWarning: A column-vector y was passed when a 1d array was expected. Please change the shape of y to (n_samples, ), for example using ravel().\n",
            "  y = column_or_1d(y, warn=True)\n",
            "/usr/local/lib/python3.6/dist-packages/sklearn/utils/validation.py:760: DataConversionWarning: A column-vector y was passed when a 1d array was expected. Please change the shape of y to (n_samples, ), for example using ravel().\n",
            "  y = column_or_1d(y, warn=True)\n",
            "/usr/local/lib/python3.6/dist-packages/sklearn/utils/validation.py:760: DataConversionWarning: A column-vector y was passed when a 1d array was expected. Please change the shape of y to (n_samples, ), for example using ravel().\n",
            "  y = column_or_1d(y, warn=True)\n",
            "/usr/local/lib/python3.6/dist-packages/sklearn/utils/validation.py:760: DataConversionWarning: A column-vector y was passed when a 1d array was expected. Please change the shape of y to (n_samples, ), for example using ravel().\n",
            "  y = column_or_1d(y, warn=True)\n",
            "/usr/local/lib/python3.6/dist-packages/sklearn/utils/validation.py:760: DataConversionWarning: A column-vector y was passed when a 1d array was expected. Please change the shape of y to (n_samples, ), for example using ravel().\n",
            "  y = column_or_1d(y, warn=True)\n"
          ],
          "name": "stderr"
        },
        {
          "output_type": "stream",
          "text": [
            "------------------------------------------------\n",
            "Values of C: [0.25, 0.5, 1, 2, 4]\n",
            "Error rate on training set : [0.0011191818999758407, 0.0011850161293861516, 0.001206960872523033, 0.0012289056156598033, 0.0013386293313436548]\n",
            "Recall score on training set:  [0.6022727272727273, 0.6136363636363636, 0.6363636363636364, 0.6363636363636364, 0.6363636363636364]\n",
            "Precision score on training set:  [0.7681159420289855, 0.7297297297297297, 0.7088607594936709, 0.7, 0.6588235294117647]\n",
            "------------------------------------------------\n",
            "0.6542056074766355\n",
            "0.9986613706686563\n",
            "0.8267576228591399\n",
            "0.9986431949423109\n",
            "------------------------------------------------\n",
            "0.6473988439306358\n",
            "0.9986613706686563\n",
            "0.8233641281710015\n",
            "0.9986497861297654\n",
            "------------------------------------------------\n",
            "0.6407322654462243\n",
            "0.9986613706686563\n",
            "0.8200407264049527\n",
            "0.9986566488149148\n"
          ],
          "name": "stdout"
        }
      ]
    },
    {
      "cell_type": "markdown",
      "metadata": {
        "id": "ApU0ubZn--8_"
      },
      "source": [
        "**Question 12**"
      ]
    },
    {
      "cell_type": "markdown",
      "metadata": {
        "id": "9at1T8--_qU0"
      },
      "source": [
        "From qustion 11 and 10 we take **Good C** for our models from Validation and Check Finally in Test Data\n",
        "\n",
        "\n",
        "\n"
      ]
    },
    {
      "cell_type": "code",
      "metadata": {
        "id": "XaWaVM6Z9KrX",
        "outputId": "e2b6bce9-8418-4c48-fe12-5754dcb2247e",
        "colab": {
          "base_uri": "https://localhost:8080/",
          "height": 392
        }
      },
      "source": [
        "# Model 1\n",
        "model1_final=SVC(C=4,kernel='linear').fit(X_test,y_test)\n",
        "y_pred_model1=model1_final.predict(X_test)\n",
        "\n",
        "print('Error rate:',(1-accuracy_score(y_test,y_pred_model1)))\n",
        "print('Recall for 1st model:',(recall_score(y_test,y_pred_model1)))\n",
        "print('Precision for 1st model:',(precision_score(y_test,y_pred_model1)))\n",
        "print('------------------------------------------------')\n",
        "print(fbeta_score(y_test,y_pred_model1,average='binary',beta=0.5))\n",
        "print(fbeta_score(y_test,y_pred_model1,average='micro',beta=0.5))\n",
        "print(fbeta_score(y_test,y_pred_model1,average='macro',beta=0.5))\n",
        "print(fbeta_score(y_test,y_pred_model1,average='weighted',beta=0.5))\n",
        "print('------------------------------------------------')\n",
        "print(fbeta_score(y_test,y_pred_model1,average='binary',beta=1))\n",
        "print(fbeta_score(y_test,y_pred_model1,average='micro',beta=1))\n",
        "print(fbeta_score(y_test,y_pred_model1,average='macro',beta=1))\n",
        "print(fbeta_score(y_test,y_pred_model1,average='weighted',beta=1))\n",
        "print('------------------------------------------------')\n",
        "print(fbeta_score(y_test,y_pred_model1,average='binary',beta=2))\n",
        "print(fbeta_score(y_test,y_pred_model1,average='micro',beta=2))\n",
        "print(fbeta_score(y_test,y_pred_model1,average='macro',beta=2))\n",
        "print(fbeta_score(y_test,y_pred_model1,average='weighted',beta=2))"
      ],
      "execution_count": null,
      "outputs": [
        {
          "output_type": "stream",
          "text": [
            "/usr/local/lib/python3.6/dist-packages/sklearn/utils/validation.py:760: DataConversionWarning: A column-vector y was passed when a 1d array was expected. Please change the shape of y to (n_samples, ), for example using ravel().\n",
            "  y = column_or_1d(y, warn=True)\n"
          ],
          "name": "stderr"
        },
        {
          "output_type": "stream",
          "text": [
            "Error rate: 0.0005793335908149677\n",
            "Recall for 1st model: 0.7741935483870968\n",
            "Precision for 1st model: 0.8571428571428571\n",
            "------------------------------------------------\n",
            "0.8391608391608392\n",
            "0.999420666409185\n",
            "0.9194116319328622\n",
            "0.9994003789997555\n",
            "------------------------------------------------\n",
            "0.8135593220338982\n",
            "0.999420666409185\n",
            "0.9066346022461684\n",
            "0.9994059605083756\n",
            "------------------------------------------------\n",
            "0.7894736842105263\n",
            "0.999420666409185\n",
            "0.8946155144643648\n",
            "0.9994140214425596\n"
          ],
          "name": "stdout"
        }
      ]
    },
    {
      "cell_type": "code",
      "metadata": {
        "id": "Pg1V2fERdTMy",
        "outputId": "fcb6a26d-5c2d-478b-90e1-c0ddebe0594c",
        "colab": {
          "base_uri": "https://localhost:8080/",
          "height": 52
        }
      },
      "source": [
        "confusion_matrix(y_test,y_pred_model1)"
      ],
      "execution_count": null,
      "outputs": [
        {
          "output_type": "execute_result",
          "data": {
            "text/plain": [
              "array([[56857,    12],\n",
              "       [   21,    72]])"
            ]
          },
          "metadata": {
            "tags": []
          },
          "execution_count": 18
        }
      ]
    },
    {
      "cell_type": "code",
      "metadata": {
        "id": "hwYoGR1udmXT",
        "outputId": "3973f34b-b34e-4863-80b9-e2892f91d87e",
        "colab": {
          "base_uri": "https://localhost:8080/",
          "height": 176
        }
      },
      "source": [
        "print(classification_report(y_test,y_pred_model1)) # The calculated above things are almost numbers of classification report table."
      ],
      "execution_count": null,
      "outputs": [
        {
          "output_type": "stream",
          "text": [
            "              precision    recall  f1-score   support\n",
            "\n",
            "           0       1.00      1.00      1.00     56869\n",
            "           1       0.86      0.77      0.81        93\n",
            "\n",
            "    accuracy                           1.00     56962\n",
            "   macro avg       0.93      0.89      0.91     56962\n",
            "weighted avg       1.00      1.00      1.00     56962\n",
            "\n"
          ],
          "name": "stdout"
        }
      ]
    },
    {
      "cell_type": "code",
      "metadata": {
        "id": "KYhyoE939ICA",
        "outputId": "f6f0a2fa-f071-471c-f760-e06881b5d3a3",
        "colab": {
          "base_uri": "https://localhost:8080/",
          "height": 392
        }
      },
      "source": [
        "# Model 2\n",
        "model2_final=SVC(C=1 ,kernel='poly').fit(X_test,y_test)\n",
        "y_pred_model2=model2_final.predict(X_test)\n",
        "print('Error rate:',(1-accuracy_score(y_test,y_pred_model2)))\n",
        "print('Recall for 2nd model:',(recall_score(y_test,y_pred_model2)))\n",
        "print('Precision for 2nd model:',(precision_score(y_test,y_pred_model2)))\n",
        "  print('------------------------------------------------')\n",
        "print(fbeta_score(y_test,y_pred_model2,average='binary',beta=0.5))\n",
        "print(fbeta_score(y_test,y_pred_model2,average='micro',beta=0.5))\n",
        "print(fbeta_score(y_test,y_pred_model2,average='macro',beta=0.5))\n",
        "print(fbeta_score(y_test,y_pred_model2,average='weighted',beta=0.5))\n",
        "print('------------------------------------------------')\n",
        "print(fbeta_score(y_test,y_pred_model2,average='binary',beta=1))\n",
        "print(fbeta_score(y_test,y_pred_model2,average='micro',beta=1))\n",
        "print(fbeta_score(y_test,y_pred_model2,average='macro',beta=1))\n",
        "print(fbeta_score(y_test,y_pred_model2,average='weighted',beta=1))\n",
        "print('------------------------------------------------')\n",
        "print(fbeta_score(y_test,y_pred_model2,average='binary',beta=2))\n",
        "print(fbeta_score(y_test,y_pred_model2,average='micro',beta=2))\n",
        "print(fbeta_score(y_test,y_pred_model2,average='macro',beta=2))\n",
        "print(fbeta_score(y_test,y_pred_model2,average='weighted',beta=2))"
      ],
      "execution_count": null,
      "outputs": [
        {
          "output_type": "stream",
          "text": [
            "/usr/local/lib/python3.6/dist-packages/sklearn/utils/validation.py:760: DataConversionWarning: A column-vector y was passed when a 1d array was expected. Please change the shape of y to (n_samples, ), for example using ravel().\n",
            "  y = column_or_1d(y, warn=True)\n"
          ],
          "name": "stderr"
        },
        {
          "output_type": "stream",
          "text": [
            "Error rate: 0.0002808890137284692\n",
            "Recall for 2nd model: 0.8279569892473119\n",
            "Precision for 2nd model: 1.0\n",
            "------------------------------------------------\n",
            "0.9600997506234412\n",
            "0.9997191109862715\n",
            "0.9799373612914188\n",
            "0.9997101955192391\n",
            "------------------------------------------------\n",
            "0.9058823529411765\n",
            "0.9997191109862715\n",
            "0.9528708492733029\n",
            "0.9997059124338802\n",
            "------------------------------------------------\n",
            "0.8574610244988864\n",
            "0.9997191109862715\n",
            "0.9287023789962896\n",
            "0.9997111066207509\n"
          ],
          "name": "stdout"
        }
      ]
    },
    {
      "cell_type": "code",
      "metadata": {
        "id": "F4LPGXR_eE4h",
        "outputId": "5eb4d3e9-9016-4b82-cac8-42bc2ac80b45",
        "colab": {
          "base_uri": "https://localhost:8080/",
          "height": 176
        }
      },
      "source": [
        "print(classification_report(y_test,y_pred_model2))"
      ],
      "execution_count": null,
      "outputs": [
        {
          "output_type": "stream",
          "text": [
            "              precision    recall  f1-score   support\n",
            "\n",
            "           0       1.00      1.00      1.00     56869\n",
            "           1       1.00      0.83      0.91        93\n",
            "\n",
            "    accuracy                           1.00     56962\n",
            "   macro avg       1.00      0.91      0.95     56962\n",
            "weighted avg       1.00      1.00      1.00     56962\n",
            "\n"
          ],
          "name": "stdout"
        }
      ]
    },
    {
      "cell_type": "code",
      "metadata": {
        "id": "1oD7LETQ9H-8",
        "outputId": "c713959e-cc0c-4669-c0f9-9d616961fdf1",
        "colab": {
          "base_uri": "https://localhost:8080/",
          "height": 392
        }
      },
      "source": [
        "# Model 3\n",
        "model3_final=SVC(C=2 ,kernel='rbf').fit(X_test,y_test)\n",
        "y_pred_model3=model3_final.predict(X_test)\n",
        "print('Error rate:',(1-accuracy_score(y_test,y_pred_model3)))\n",
        "print('Recall for 3rd model:',(recall_score(y_test,y_pred_model3)))\n",
        "print('Precision for 3rd model:',(precision_score(y_test,y_pred_model3)))\n",
        "  \n",
        "print('------------------------------------------------')\n",
        "print(fbeta_score(y_test,y_pred_model3,average='binary',beta=0.5))\n",
        "print(fbeta_score(y_test,y_pred_model3,average='micro',beta=0.5))\n",
        "print(fbeta_score(y_test,y_pred_model3,average='macro',beta=0.5))\n",
        "print(fbeta_score(y_test,y_pred_model3,average='weighted',beta=0.5))\n",
        "print('------------------------------------------------')\n",
        "print(fbeta_score(y_test,y_pred_model3,average='binary',beta=1))\n",
        "print(fbeta_score(y_test,y_pred_model3,average='micro',beta=1))\n",
        "print(fbeta_score(y_test,y_pred_model3,average='macro',beta=1))\n",
        "print(fbeta_score(y_test,y_pred_model3,average='weighted',beta=1))\n",
        "print('------------------------------------------------')\n",
        "print(fbeta_score(y_test,y_pred_model3,average='binary',beta=2))\n",
        "print(fbeta_score(y_test,y_pred_model3,average='micro',beta=2))\n",
        "print(fbeta_score(y_test,y_pred_model3,average='macro',beta=2))\n",
        "print(fbeta_score(y_test,y_pred_model3,average='weighted',beta=2))"
      ],
      "execution_count": null,
      "outputs": [
        {
          "output_type": "stream",
          "text": [
            "/usr/local/lib/python3.6/dist-packages/sklearn/utils/validation.py:760: DataConversionWarning: A column-vector y was passed when a 1d array was expected. Please change the shape of y to (n_samples, ), for example using ravel().\n",
            "  y = column_or_1d(y, warn=True)\n"
          ],
          "name": "stderr"
        },
        {
          "output_type": "stream",
          "text": [
            "Error rate: 0.0002984445770864985\n",
            "Recall for 3rd model: 0.8172043010752689\n",
            "Precision for 3rd model: 1.0\n",
            "------------------------------------------------\n",
            "0.9571788413098236\n",
            "0.9997015554229134\n",
            "0.9784698761896446\n",
            "0.9996913887126727\n",
            "------------------------------------------------\n",
            "0.8994082840236686\n",
            "0.9997015554229135\n",
            "0.9496294200215921\n",
            "0.9996865671972198\n",
            "------------------------------------------------\n",
            "0.8482142857142857\n",
            "0.9997015554229134\n",
            "0.9240772513807852\n",
            "0.9996924990666315\n"
          ],
          "name": "stdout"
        }
      ]
    },
    {
      "cell_type": "code",
      "metadata": {
        "id": "Kf-Z9dLtefZ0",
        "outputId": "460ba519-1068-4980-a7af-c14a67a5609a",
        "colab": {
          "base_uri": "https://localhost:8080/",
          "height": 176
        }
      },
      "source": [
        "print(classification_report(y_test,y_pred_model3))"
      ],
      "execution_count": null,
      "outputs": [
        {
          "output_type": "stream",
          "text": [
            "              precision    recall  f1-score   support\n",
            "\n",
            "           0       1.00      1.00      1.00     56869\n",
            "           1       1.00      0.82      0.90        93\n",
            "\n",
            "    accuracy                           1.00     56962\n",
            "   macro avg       1.00      0.91      0.95     56962\n",
            "weighted avg       1.00      1.00      1.00     56962\n",
            "\n"
          ],
          "name": "stdout"
        }
      ]
    },
    {
      "cell_type": "code",
      "metadata": {
        "id": "ulSVpKBCNBNJ",
        "outputId": "1f91296b-4df8-4d9d-80cc-89ff7626f86f",
        "colab": {
          "base_uri": "https://localhost:8080/",
          "height": 392
        }
      },
      "source": [
        "# Model 4\n",
        "model4_final=SVC(C=0.25 ,kernel='sigmoid').fit(X_test,y_test)\n",
        "y_pred_model4=model4_final.predict(X_test)\n",
        "print('Error rate:',(1-accuracy_score(y_test,y_pred_model4)))\n",
        "print('Recall for 4th model:',(recall_score(y_test,y_pred_model4)))\n",
        "print('Precision for 4th model:',(precision_score(y_test,y_pred_model4)))\n",
        "  \n",
        "print('------------------------------------------------')\n",
        "\n",
        "\n",
        "print(fbeta_score(y_test,y_pred_model4,average='binary',beta=0.5))\n",
        "print(fbeta_score(y_test,y_pred_model4,average='micro',beta=0.5))\n",
        "print(fbeta_score(y_test,y_pred_model4,average='macro',beta=0.5))\n",
        "print(fbeta_score(y_test,y_pred_model4,average='weighted',beta=0.5))\n",
        "\n",
        "print('------------------------------------------------')\n",
        "\n",
        "print(fbeta_score(y_test,y_pred_model4,average='binary',beta=1))\n",
        "print(fbeta_score(y_test,y_pred_model4,average='micro',beta=1))\n",
        "print(fbeta_score(y_test,y_pred_model4,average='macro',beta=1))\n",
        "print(fbeta_score(y_test,y_pred_model4,average='weighted',beta=1))\n",
        "\n",
        "print('------------------------------------------------')\n",
        "\n",
        "\n",
        "print(fbeta_score(y_test,y_pred_model4,average='binary',beta=2))\n",
        "print(fbeta_score(y_test,y_pred_model4,average='micro',beta=2))\n",
        "print(fbeta_score(y_test,y_pred_model4,average='macro',beta=2))\n",
        "print(fbeta_score(y_test,y_pred_model4,average='weighted',beta=2))\n",
        "\n"
      ],
      "execution_count": null,
      "outputs": [
        {
          "output_type": "stream",
          "text": [
            "/usr/local/lib/python3.6/dist-packages/sklearn/utils/validation.py:760: DataConversionWarning: A column-vector y was passed when a 1d array was expected. Please change the shape of y to (n_samples, ), for example using ravel().\n",
            "  y = column_or_1d(y, warn=True)\n"
          ],
          "name": "stderr"
        },
        {
          "output_type": "stream",
          "text": [
            "Error rate: 0.001088444928197707\n",
            "Recall for 4th model: 0.5376344086021505\n",
            "Precision for 4th model: 0.7246376811594203\n",
            "------------------------------------------------\n",
            "0.6775067750677507\n",
            "0.9989115550718023\n",
            "0.8384176412806981\n",
            "0.9988030796449814\n",
            "------------------------------------------------\n",
            "0.6172839506172838\n",
            "0.9989115550718023\n",
            "0.8083694765832327\n",
            "0.9988310443344127\n",
            "------------------------------------------------\n",
            "0.5668934240362812\n",
            "0.9989115550718023\n",
            "0.7832374768342774\n",
            "0.9988750938712325\n"
          ],
          "name": "stdout"
        }
      ]
    },
    {
      "cell_type": "code",
      "metadata": {
        "id": "SMiR270lNBKX",
        "outputId": "dac3b612-693a-4277-ce04-3c31255615a3",
        "colab": {
          "base_uri": "https://localhost:8080/",
          "height": 176
        }
      },
      "source": [
        "print(classification_report(y_test,y_pred_model4))"
      ],
      "execution_count": null,
      "outputs": [
        {
          "output_type": "stream",
          "text": [
            "              precision    recall  f1-score   support\n",
            "\n",
            "           0       1.00      1.00      1.00     56869\n",
            "           1       0.72      0.54      0.62        93\n",
            "\n",
            "    accuracy                           1.00     56962\n",
            "   macro avg       0.86      0.77      0.81     56962\n",
            "weighted avg       1.00      1.00      1.00     56962\n",
            "\n"
          ],
          "name": "stdout"
        }
      ]
    },
    {
      "cell_type": "markdown",
      "metadata": {
        "id": "tbW0zkOahzGF"
      },
      "source": [
        "In conclusion I would like to say that All models are good in general. They showed accuracy almost 99% , The main reason Is because of at the beggining our classes were :  0 and 1. The 0 occured 251315 times and the 1 occured only 492 times. Because of teh majority I think for our model it was easy to predict Fraud. I tried to write all operations briefely and attached comments. At the end just for correctness checked my values with Classification_report matrix. The resulsts satisfied."
      ]
    }
  ]
}